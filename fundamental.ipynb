{
  "cells": [
    {
      "cell_type": "markdown",
      "metadata": {
        "id": "dgc7V3LJKWxj"
      },
      "source": [
        "# Python3入門"
      ]
    },
    {
      "cell_type": "markdown",
      "metadata": {
        "id": "ME62CzJ8Re7Z"
      },
      "source": [
        "## Hello world"
      ]
    },
    {
      "cell_type": "code",
      "execution_count": 1,
      "metadata": {
        "colab": {
          "base_uri": "https://localhost:8080/"
        },
        "id": "Jcy2dufaKUYp",
        "outputId": "46d142d5-5e67-43b0-a727-2bd3b41f7cea"
      },
      "outputs": [
        {
          "output_type": "stream",
          "name": "stdout",
          "text": [
            "hello world\n"
          ]
        }
      ],
      "source": [
        "print(\"hello world\")"
      ]
    },
    {
      "cell_type": "markdown",
      "metadata": {
        "id": "W8JM9wbbxgMI"
      },
      "source": [
        "Hello world練習"
      ]
    },
    {
      "cell_type": "code",
      "source": [
        "# 進入Python的第一步，Hello world從這裡開始\n"
      ],
      "metadata": {
        "id": "2B_d3evCJw07"
      },
      "execution_count": null,
      "outputs": []
    },
    {
      "cell_type": "code",
      "execution_count": 2,
      "metadata": {
        "id": "lVvO6o9_KbAs",
        "colab": {
          "base_uri": "https://localhost:8080/"
        },
        "outputId": "f35ef07d-76bc-4f4b-ad2b-2e555eed0ed6"
      },
      "outputs": [
        {
          "output_type": "stream",
          "name": "stdout",
          "text": [
            "1\n",
            "您輸入的文字是: 1\n"
          ]
        }
      ],
      "source": [
        "temp = input()\n",
        "\n",
        "print(\"您輸入的文字是:\", temp)"
      ]
    },
    {
      "cell_type": "markdown",
      "metadata": {
        "id": "RFTFV7YzRiJI"
      },
      "source": [
        "-----\n",
        "## 變數"
      ]
    },
    {
      "cell_type": "code",
      "execution_count": null,
      "metadata": {
        "id": "kKBCY0JJMc8I"
      },
      "outputs": [],
      "source": [
        "variable = \"Hello world\"\n",
        "variable2 = 2\n",
        "\n",
        "print(\"變數1: \", variable, \", 變數2: \",variable2)\n",
        "print(\"變數1的型態是: \", type(variable), \", 變數2的型態是: \", type(variable2))\n",
        "\n",
        "variable2 = 4\n",
        "\n",
        "print(\"更改後的變數2: \", variable2)"
      ]
    },
    {
      "cell_type": "markdown",
      "metadata": {
        "id": "-RRqEWA_Tt4o"
      },
      "source": [
        "-----\n",
        "## 運算子"
      ]
    },
    {
      "cell_type": "code",
      "execution_count": null,
      "metadata": {
        "id": "4WX9b-noWqkz"
      },
      "outputs": [],
      "source": [
        "a = 101\n",
        "b = 2\n",
        "\n",
        "print(\"a +  b = \", a + b)\n",
        "print(\"a -  b = \", a - b)\n",
        "print(\"a *  b = \", a * b)\n",
        "print(\"a /  b = \", a / b)\n",
        "\n",
        "print(\"a ** b = \", a ** b)  # a的b次方\n",
        "print(\"a // b = \", a // b)  # 整數除法(只會留下整數部分)\n",
        "print(\"a %  b = \", a % b)  # 取餘數"
      ]
    },
    {
      "cell_type": "markdown",
      "metadata": {
        "id": "8cyXQeX_xSaw"
      },
      "source": [
        "* 算術運算子練習"
      ]
    },
    {
      "cell_type": "code",
      "execution_count": null,
      "metadata": {
        "id": "59pmbY_FRy7x"
      },
      "outputs": [],
      "source": [
        "variable = 5\n",
        "variable2 = 2\n",
        "\n",
        "variable3 = variable + variable2\n",
        "\n",
        "print(\"變數1加上變數2的結果是: \", variable3)"
      ]
    },
    {
      "cell_type": "code",
      "execution_count": null,
      "metadata": {
        "id": "-Truh-buTeCL"
      },
      "outputs": [],
      "source": [
        "variable = \"Hello\"\n",
        "variable2 = \"world\"\n",
        "\n",
        "variable3 = variable + variable2\n",
        "\n",
        "print(\"變數1加上變數2的結果是: \", variable3)"
      ]
    },
    {
      "cell_type": "code",
      "execution_count": null,
      "metadata": {
        "id": "qaxKWbelWQlC"
      },
      "outputs": [],
      "source": [
        "variable = \"Hello\"\n",
        "variable2 = \"world\"\n",
        "\n",
        "variable3 = variable - variable2"
      ]
    },
    {
      "cell_type": "markdown",
      "source": [
        "### * 自我練習   - * / ** // %"
      ],
      "metadata": {
        "id": "bMiHNnRlTJ5Q"
      }
    },
    {
      "cell_type": "code",
      "source": [
        "# 在此處練習\n",
        "# 使用其他運算子進行運算，將結果print出來，看看是不是自己所預期的結果\n"
      ],
      "metadata": {
        "id": "Gc5rnsZxTJQI"
      },
      "execution_count": null,
      "outputs": []
    },
    {
      "cell_type": "markdown",
      "metadata": {
        "id": "00Hbm6wDy03W"
      },
      "source": [
        "-----\n",
        "## 資料型態-矩陣"
      ]
    },
    {
      "cell_type": "code",
      "execution_count": null,
      "metadata": {
        "colab": {
          "base_uri": "https://localhost:8080/"
        },
        "id": "WTPaneMZxuxf",
        "outputId": "9252b2d6-3af3-4848-b12a-7867f25aed21"
      },
      "outputs": [
        {
          "name": "stdout",
          "output_type": "stream",
          "text": [
            "[0, 1, 2, 3, 4, 5, 6, 7, 8, 9]\n",
            "零\n",
            "['二', '三', '四', '五', '六', '七', '八']\n"
          ]
        }
      ],
      "source": [
        "a = [0,1,2,3,4,5,6,7,8,9]\n",
        "b = [\"零\",\"一\",\"二\",\"三\",\"四\",\"五\",\"六\",\"七\",\"八\",\"九\"]\n",
        "c = [\"零\",1,\"二\",\"三\",4,\"五\",\"六\",7,\"八\",\"九\"]\n",
        "\n",
        "print(a)\n",
        "print(b[0])\n",
        "print(b[2:9])"
      ]
    },
    {
      "cell_type": "markdown",
      "metadata": {
        "id": "jACgFroHd6ZL"
      },
      "source": [
        "-----\n",
        "## for 迴圈"
      ]
    },
    {
      "cell_type": "code",
      "execution_count": null,
      "metadata": {
        "colab": {
          "base_uri": "https://localhost:8080/"
        },
        "id": "F-Z1ppvTy6LR",
        "outputId": "558a9414-b958-41d2-8202-8222aed63d15"
      },
      "outputs": [
        {
          "name": "stdout",
          "output_type": "stream",
          "text": [
            "0\n",
            "1\n",
            "2\n",
            "3\n",
            "4\n",
            "5\n",
            "6\n",
            "7\n",
            "8\n",
            "9\n"
          ]
        }
      ],
      "source": [
        "a = [0,1,2,3,4,5,6,7,8,9]\n",
        "\n",
        "for i in a:\n",
        "  print(i)"
      ]
    },
    {
      "cell_type": "code",
      "execution_count": null,
      "metadata": {
        "colab": {
          "base_uri": "https://localhost:8080/"
        },
        "id": "R3JaAn7_zXTk",
        "outputId": "e0674f44-8a96-4b5d-9071-814a33077857"
      },
      "outputs": [
        {
          "name": "stdout",
          "output_type": "stream",
          "text": [
            "0\n",
            "1\n",
            "2\n",
            "3\n",
            "4\n",
            "5\n",
            "6\n",
            "7\n",
            "8\n",
            "9\n"
          ]
        }
      ],
      "source": [
        "for i in range(10):\n",
        "  print(i)"
      ]
    },
    {
      "cell_type": "code",
      "execution_count": null,
      "metadata": {
        "colab": {
          "base_uri": "https://localhost:8080/"
        },
        "id": "HBNRdUbXeMvk",
        "outputId": "845a903d-05ec-4413-dc90-4e52b8fc7569"
      },
      "outputs": [
        {
          "name": "stdout",
          "output_type": "stream",
          "text": [
            "10  9  8  7  6  5  4  3  2  "
          ]
        }
      ],
      "source": [
        "for i in range(10,1,-1):\n",
        "  print(i, \" \", end=\"\")"
      ]
    },
    {
      "cell_type": "markdown",
      "metadata": {
        "id": "oA5VyiEEkbJL"
      },
      "source": [
        "### * for迴圈練習1  \n",
        "2 * 1 = 2  \n",
        "2 * 2 = 4  \n",
        "2 * 3 = 6  \n",
        "2 * 4 = 8  \n",
        "2 * 5 = 10  \n",
        "2 * 6 = 12  \n",
        "2 * 7 = 14  \n",
        "2 * 8 = 16  \n",
        "2 * 9 = 18"
      ]
    },
    {
      "cell_type": "code",
      "execution_count": null,
      "metadata": {
        "colab": {
          "base_uri": "https://localhost:8080/"
        },
        "id": "ot_BiwAsjyBX",
        "outputId": "47920505-d029-41aa-bb1d-d9564576dc11"
      },
      "outputs": [
        {
          "name": "stdout",
          "output_type": "stream",
          "text": [
            "2 * 1 = 2\n",
            "2 * 2 = 4\n",
            "2 * 3 = 6\n",
            "2 * 4 = 8\n",
            "2 * 5 = 10\n",
            "2 * 6 = 12\n",
            "2 * 7 = 14\n",
            "2 * 8 = 16\n",
            "2 * 9 = 18\n"
          ]
        }
      ],
      "source": [
        "# range(start, stop, step)\n",
        "for i in range(1,10):\n",
        "  print(2, \"*\", i, \"=\", 2*i)"
      ]
    },
    {
      "cell_type": "markdown",
      "source": [
        "### for迴圈練習1作答"
      ],
      "metadata": {
        "id": "qUngS6eaSKIH"
      }
    },
    {
      "cell_type": "code",
      "source": [
        "# 使用for迴圈搭配乘法\n"
      ],
      "metadata": {
        "id": "W9ZykfRTSHiI"
      },
      "execution_count": null,
      "outputs": []
    },
    {
      "cell_type": "markdown",
      "source": [
        "### 程式縮排"
      ],
      "metadata": {
        "id": "3F5QfKesfxpI"
      }
    },
    {
      "cell_type": "code",
      "source": [
        "# range(start, stop, step)\n",
        "for i in range(3):\n",
        "  for j in range(4):\n",
        "    print(\"a\")\n",
        "  print(\"-----\")\n",
        "print(\"c\")"
      ],
      "metadata": {
        "colab": {
          "base_uri": "https://localhost:8080/"
        },
        "id": "IHPytmurfwx7",
        "outputId": "fb948a19-ec66-45b5-cb71-1e1ca783cbb7"
      },
      "execution_count": null,
      "outputs": [
        {
          "output_type": "stream",
          "name": "stdout",
          "text": [
            "a\n",
            "a\n",
            "a\n",
            "a\n",
            "-----\n",
            "a\n",
            "a\n",
            "a\n",
            "a\n",
            "-----\n",
            "a\n",
            "a\n",
            "a\n",
            "a\n",
            "-----\n",
            "c\n"
          ]
        }
      ]
    },
    {
      "cell_type": "markdown",
      "metadata": {
        "id": "FSDaP_eAGlWT"
      },
      "source": [
        "### for迴圈練習2\n",
        "2 * 1 = 2  \n",
        "2 * 2 = 4  \n",
        "2 * 3 = 6  \n",
        "2 * 4 = 8  \n",
        "2 * 5 = 10  \n",
        "2 * 6 = 12  \n",
        "2 * 7 = 14  \n",
        "2 * 8 = 16  \n",
        "2 * 9 = 18  \n",
        "\n",
        "3 * 1 = 3  \n",
        "3 * 2 = 6  \n",
        "3 * 3 = 9  \n",
        "3 * 4 = 12  \n",
        "3 * 5 = 15  \n",
        "3 * 6 = 18  \n",
        "3 * 7 = 21  \n",
        "3 * 8 = 24  \n",
        "3 * 9 = 27  \n",
        "   .  \n",
        "   .  \n",
        "   ."
      ]
    },
    {
      "cell_type": "code",
      "execution_count": null,
      "metadata": {
        "colab": {
          "base_uri": "https://localhost:8080/"
        },
        "id": "Ds-naHlGmQ2n",
        "outputId": "78a7f490-307e-42cd-dfcf-396f53919a89"
      },
      "outputs": [
        {
          "output_type": "stream",
          "name": "stdout",
          "text": [
            "2 * 1 = 2\n",
            "2 * 2 = 4\n",
            "2 * 3 = 6\n",
            "2 * 4 = 8\n",
            "2 * 5 = 10\n",
            "2 * 6 = 12\n",
            "2 * 7 = 14\n",
            "2 * 8 = 16\n",
            "2 * 9 = 18\n",
            "\n",
            "3 * 1 = 3\n",
            "3 * 2 = 6\n",
            "3 * 3 = 9\n",
            "3 * 4 = 12\n",
            "3 * 5 = 15\n",
            "3 * 6 = 18\n",
            "3 * 7 = 21\n",
            "3 * 8 = 24\n",
            "3 * 9 = 27\n",
            "\n",
            "4 * 1 = 4\n",
            "4 * 2 = 8\n",
            "4 * 3 = 12\n",
            "4 * 4 = 16\n",
            "4 * 5 = 20\n",
            "4 * 6 = 24\n",
            "4 * 7 = 28\n",
            "4 * 8 = 32\n",
            "4 * 9 = 36\n",
            "\n",
            "5 * 1 = 5\n",
            "5 * 2 = 10\n",
            "5 * 3 = 15\n",
            "5 * 4 = 20\n",
            "5 * 5 = 25\n",
            "5 * 6 = 30\n",
            "5 * 7 = 35\n",
            "5 * 8 = 40\n",
            "5 * 9 = 45\n",
            "\n",
            "6 * 1 = 6\n",
            "6 * 2 = 12\n",
            "6 * 3 = 18\n",
            "6 * 4 = 24\n",
            "6 * 5 = 30\n",
            "6 * 6 = 36\n",
            "6 * 7 = 42\n",
            "6 * 8 = 48\n",
            "6 * 9 = 54\n",
            "\n",
            "7 * 1 = 7\n",
            "7 * 2 = 14\n",
            "7 * 3 = 21\n",
            "7 * 4 = 28\n",
            "7 * 5 = 35\n",
            "7 * 6 = 42\n",
            "7 * 7 = 49\n",
            "7 * 8 = 56\n",
            "7 * 9 = 63\n",
            "\n",
            "8 * 1 = 8\n",
            "8 * 2 = 16\n",
            "8 * 3 = 24\n",
            "8 * 4 = 32\n",
            "8 * 5 = 40\n",
            "8 * 6 = 48\n",
            "8 * 7 = 56\n",
            "8 * 8 = 64\n",
            "8 * 9 = 72\n",
            "\n",
            "9 * 1 = 9\n",
            "9 * 2 = 18\n",
            "9 * 3 = 27\n",
            "9 * 4 = 36\n",
            "9 * 5 = 45\n",
            "9 * 6 = 54\n",
            "9 * 7 = 63\n",
            "9 * 8 = 72\n",
            "9 * 9 = 81\n",
            "\n"
          ]
        }
      ],
      "source": [
        "# range(start, stop, step)\n",
        "for i in range(2,10):\n",
        "  for j in range(1,10):\n",
        "    print(i, \"*\", j, \"=\", j*i)\n",
        "  print()"
      ]
    },
    {
      "cell_type": "markdown",
      "source": [
        "### for迴圈練習2作答"
      ],
      "metadata": {
        "id": "2JZ4e_bkSd2K"
      }
    },
    {
      "cell_type": "code",
      "source": [
        "# 使用兩個for迴圈，取得兩個從2到9的變數，一個for迴圈會包含在另一個for迴圈中，將答案印出來\n"
      ],
      "metadata": {
        "id": "DMbBJz6ZSgzQ"
      },
      "execution_count": null,
      "outputs": []
    },
    {
      "cell_type": "markdown",
      "metadata": {
        "id": "a4p7Er-sHPV4"
      },
      "source": [
        "-----\n",
        "## 關係運算子"
      ]
    },
    {
      "cell_type": "code",
      "execution_count": null,
      "metadata": {
        "colab": {
          "base_uri": "https://localhost:8080/"
        },
        "id": "Zn86S446nQg_",
        "outputId": "c9b5c528-f72c-40ce-ef0f-2942a2a55d34"
      },
      "outputs": [
        {
          "output_type": "stream",
          "name": "stdout",
          "text": [
            "a > 7:   False\n",
            "a < 7:   True\n",
            "a >= b:  False\n",
            "a <= b:  True\n",
            "a == 7:  False\n",
            "a != b:  True\n",
            "<class 'bool'>\n"
          ]
        }
      ],
      "source": [
        "a = 5\n",
        "b = 8\n",
        "\n",
        "print(\"a > 7:  \", a > 7)\n",
        "print(\"a < 7:  \", a < 7)\n",
        "print(\"a >= b: \", a >= b)\n",
        "print(\"a <= b: \", a <= b)\n",
        "print(\"a == 7: \", a == 7)\n",
        "print(\"a != b: \", a != 7)\n",
        "\n",
        "print(type(a!=7))"
      ]
    },
    {
      "cell_type": "code",
      "execution_count": null,
      "metadata": {
        "id": "IoQSfOOTH_OZ",
        "colab": {
          "base_uri": "https://localhost:8080/"
        },
        "outputId": "2b7fc668-d2d5-4b36-fae6-448612c5adff"
      },
      "outputs": [
        {
          "output_type": "stream",
          "name": "stdout",
          "text": [
            "a==\"hello\" :  True\n",
            "a==b       :  False\n"
          ]
        }
      ],
      "source": [
        "a = \"hello\"\n",
        "b = \"world\"\n",
        "\n",
        "c = a==\"hello\"\n",
        "print('a==\"hello\" : ', c)\n",
        "\n",
        "c = a==b\n",
        "print('a==b       : ', c)"
      ]
    },
    {
      "cell_type": "markdown",
      "metadata": {
        "id": "dF983OAIJXAn"
      },
      "source": [
        "-----\n",
        "## 邏輯運算子"
      ]
    },
    {
      "cell_type": "code",
      "source": [
        "# and 且\n",
        "# or 或\n",
        "# not 非\n",
        "\n",
        "print(\"True and True   :　\", True and True)\n",
        "print(\"True and False  :　\", True and False)\n",
        "print(\"False and False :　\", False and False)\n",
        "\n",
        "print(\"True or True    :　\", True or True)\n",
        "print(\"True or False   :　\", True or False)\n",
        "print(\"False or False  :　\", False or False)\n",
        "\n",
        "print(\"not True  : \", not True)\n",
        "print(\"not False : \", not False)"
      ],
      "metadata": {
        "colab": {
          "base_uri": "https://localhost:8080/"
        },
        "id": "u7ixNFspU1aw",
        "outputId": "90c8e4a3-60b7-4ca7-f8d2-500ae738ff4b"
      },
      "execution_count": null,
      "outputs": [
        {
          "output_type": "stream",
          "name": "stdout",
          "text": [
            "True and True   :　 True\n",
            "True and False  :　 False\n",
            "False and False :　 False\n",
            "True or True    :　 True\n",
            "True or False   :　 True\n",
            "False or False  :　 False\n",
            "not True  :  False\n",
            "not False :  True\n"
          ]
        }
      ]
    },
    {
      "cell_type": "markdown",
      "source": [
        "## 關係/邏輯運算子練習"
      ],
      "metadata": {
        "id": "73pAwsvLUCuB"
      }
    },
    {
      "cell_type": "markdown",
      "source": [
        "### 請寫出判斷以下數值範圍的程式碼  \n",
        "### 1 < a < 10，大於1 且 小於10"
      ],
      "metadata": {
        "id": "1YwoD69lZu2j"
      }
    },
    {
      "cell_type": "code",
      "source": [
        "# 請更改?，填入適當的程式\n",
        "a = 5\n",
        "print( ( ? > ? ) and ( ? < ? ) )"
      ],
      "metadata": {
        "colab": {
          "base_uri": "https://localhost:8080/"
        },
        "id": "L3v3e4rLUGSB",
        "outputId": "c1a0c6e4-2807-496f-f986-3bc44a0dc5cd"
      },
      "execution_count": null,
      "outputs": [
        {
          "output_type": "stream",
          "name": "stdout",
          "text": [
            "True\n"
          ]
        }
      ]
    },
    {
      "cell_type": "markdown",
      "source": [
        "### a < 1, a > 10，小於1 或 大於10"
      ],
      "metadata": {
        "id": "iTLE6NdwboIx"
      }
    },
    {
      "cell_type": "code",
      "source": [
        "# 請輸入a的數值，完成題目要求判斷a的數值範圍後\n",
        "# 用適合邏輯運算子將兩個判斷語句連接，並將結果印出來\n",
        "a = input()"
      ],
      "metadata": {
        "colab": {
          "base_uri": "https://localhost:8080/"
        },
        "id": "6YxaWjwsbUPn",
        "outputId": "15bb6d3e-0017-4135-9aee-d20d62eb5683"
      },
      "execution_count": null,
      "outputs": [
        {
          "name": "stdout",
          "output_type": "stream",
          "text": [
            "4\n"
          ]
        }
      ]
    },
    {
      "cell_type": "markdown",
      "source": [
        "-----\n",
        "## if條件判斷句\n"
      ],
      "metadata": {
        "id": "Df-FNlpXo90t"
      }
    },
    {
      "cell_type": "code",
      "source": [
        "year = int(input())\n",
        "\n",
        "if( year > 3 ):\n",
        "  print(\"Senior\")\n",
        "elif( year < 3 ):\n",
        "  print(\"Junior\")\n",
        "else:\n",
        "  print(\"a的年資剛好等於3\")\n",
        "\n",
        "print(\"篩選結束\")"
      ],
      "metadata": {
        "colab": {
          "base_uri": "https://localhost:8080/"
        },
        "id": "uuOg4Z2WdSty",
        "outputId": "a175168a-52d6-43d3-c580-60071c999b3a"
      },
      "execution_count": null,
      "outputs": [
        {
          "output_type": "stream",
          "name": "stdout",
          "text": [
            "5\n",
            "Senior\n",
            "篩選結束\n"
          ]
        }
      ]
    },
    {
      "cell_type": "markdown",
      "source": [
        "### if判斷句綜合應用練習"
      ],
      "metadata": {
        "id": "PMsDe8mTsuaC"
      }
    },
    {
      "cell_type": "markdown",
      "source": [
        "### 今天老闆要找年資 \"小於等於3\" 或 \"大於等於16\" 的工程師\n",
        "### 請你寫一隻程式在candidates中找出符合條件的人\n",
        "### 1.如果符合條件印出該人的年資及這是我要的人\n",
        "### 2.如果不符合任何條件請印出不是我要找的人\n",
        "### 3.並在篩選結束後印出第一輪篩選結束"
      ],
      "metadata": {
        "id": "oQsW6mFWt9Qv"
      }
    },
    {
      "cell_type": "code",
      "source": [
        "# 請在此處練習作答\n",
        "candidates = [11, 14, 0, 18, 11, 5, 10, 3, 16, 8]\n"
      ],
      "metadata": {
        "id": "ZxUyvXBmp3Bs"
      },
      "execution_count": null,
      "outputs": []
    },
    {
      "cell_type": "markdown",
      "source": [
        "## function函式"
      ],
      "metadata": {
        "id": "F8DPUz4iKb-Y"
      }
    },
    {
      "cell_type": "code",
      "source": [
        "def determine_year(year):\n",
        "\n",
        "  print(check_work_space)\n",
        "\n",
        "  if( year > 3 ):\n",
        "    result = \"Senior\"\n",
        "  elif( year < 3 ):\n",
        "    result = \"Junior\"\n",
        "  else:\n",
        "    result = \"a的年資剛好等於3\"\n",
        "\n",
        "  return result\n",
        "\n",
        "check_result = determine_year(10)\n",
        "print(check_result)\n",
        "\n",
        "#print(year)"
      ],
      "metadata": {
        "colab": {
          "base_uri": "https://localhost:8080/"
        },
        "id": "2TI1CK3vKj98",
        "outputId": "565712cd-03d1-4ee9-cda6-12f689efd803"
      },
      "execution_count": null,
      "outputs": [
        {
          "output_type": "stream",
          "name": "stdout",
          "text": [
            "check_work_space\n",
            "Senior\n"
          ]
        }
      ]
    },
    {
      "cell_type": "markdown",
      "source": [
        "-----  \n",
        "變數 -> 算術運算 -> 矩陣 -> for -> 關係運算 -> 邏輯運算 -> 條件判斷 -> 函式\n"
      ],
      "metadata": {
        "id": "AHYY0PVUvaf8"
      }
    },
    {
      "cell_type": "markdown",
      "source": [
        "-----"
      ],
      "metadata": {
        "id": "j5fgRoC5v9X1"
      }
    },
    {
      "cell_type": "markdown",
      "source": [
        "## 爬蟲"
      ],
      "metadata": {
        "id": "YgNU-jzGcBOc"
      }
    },
    {
      "cell_type": "code",
      "source": [
        "import requests\n",
        "\n",
        "url = \"https://www.iyp.com.tw/showroom.php?cate_name_eng_lv1=education&cate_name_eng_lv3=training-courses&p=1\"\n",
        "\n",
        "html = requests.get(url, timeout=10, verify=False)\n",
        "\n",
        "print(html.text)"
      ],
      "metadata": {
        "id": "IBNmarwBtAJd",
        "colab": {
          "base_uri": "https://localhost:8080/"
        },
        "outputId": "f3e78c4f-9d23-47eb-eeae-017ea2b42ad5"
      },
      "execution_count": 4,
      "outputs": [
        {
          "output_type": "stream",
          "name": "stderr",
          "text": [
            "/usr/local/lib/python3.7/dist-packages/urllib3/connectionpool.py:847: InsecureRequestWarning: Unverified HTTPS request is being made. Adding certificate verification is strongly advised. See: https://urllib3.readthedocs.io/en/latest/advanced-usage.html#ssl-warnings\n",
            "  InsecureRequestWarning)\n"
          ]
        },
        {
          "output_type": "stream",
          "name": "stdout",
          "text": [
            "<!DOCTYPE html>\n",
            "<html xmlns=\"http://www.w3.org/1999/xhtml\" lang=\"zh-TW\">\n",
            "<head>\n",
            "\t<meta name=\"google-site-verification\" content=\"\" />\n",
            "\t<META name=\"y_key\" content=\"\" >\n",
            "\t<meta http-equiv=\"Content-Type\" content=\"text/html; charset=utf-8\" />\n",
            "\t<title>çµ¦æ¨åç¾è¬è±¡çè¨ç·´èª²ç¨æ¶è²»è³è¨ï¼æå°è©³ç¡çè¨ç·´èª²ç¨åå®¶ï¼ä¸­è¯é»é å¸¶çµ¦æ¨ä¾¿æ·çEåçæ´»</title>\n",
            "\t<meta name=\"description\" content=\"å¨ä¸­è¯é»é ï¼ä½ å¯ä»¥é¨ææ¾å°è¨ç·´èª²ç¨çåå®¶èææ°æ½è½éç¼ååï¼è®æ¨è¼é¬çè¦½ä¸¦è¿éç²å¾ç¸éè¨æ¯ï¼ç¬¬ä¸æçè¨ç·´èª²ç¨è³è¨å¤§å¨ï¼åç¨®æ½è½éç¼åååºå®¶çè¯çµ¡æ¹å¼ååªæ æ´»åï¼è®æ¨ç²å¾æ´æ·±å¥çè³æï¼æ´Eåäºæ¨çæ¶è²»è³è¨ï¼åç¾è¬è±¡çè¨ç·´èª²ç¨ï¼ä½ å¯ä»¥å¨ä¸­è¯é»é æ¾å°å¨å°ç£åç¸£å¸æ½è½éç¼çåºå®¶è¨æ¯ã\">\n",
            "\t<meta name=\"keywords\" content=\"è¨ç·´èª²ç¨,æ½è½éç¼\">\n",
            "\t<meta name=\"copyright\" content=\"\">\n",
            "\t<meta http-equiv=\"X-UA-Compatible\" content=\"IE=Edge\">\n",
            "\t<meta http-equiv=\"imagetoolbar\" content=\"no\">\n",
            "\t<link rel=\"stylesheet\" type=\"text/css\" href=\"//www.iyp.com.tw/templates/1657140094/css/global.packgz.css\" media=\"all\"/>\n",
            "\t<link rel=\"stylesheet\" type=\"text/css\" href=\"//www.iyp.com.tw/templates/1657140094/css/listing/listing.packgz.css\"/>\n",
            "\t<link rel=\"stylesheet\" type=\"text/css\" href=\"//www.iyp.com.tw/templates/1657140094/css/listing/category.packgz.css\"/>\n",
            "\t<link title=\"çµ¦æ¨åç¾è¬è±¡çè¨ç·´èª²ç¨æ¶è²»è³è¨ï¼æå°è©³ç¡çè¨ç·´èª²ç¨åå®¶ï¼ä¸­è¯é»é å¸¶çµ¦æ¨ä¾¿æ·çEåçæ´»\" href=\"/opensearch.xml\" type=\"application/opensearchdescription+xml\" rel=\"search\">\n",
            "\t<!--[if lt IE 9]>\n",
            "\t<link rel=\"stylesheet\" type=\"text/css\" href=\"//www.iyp.com.tw/templates/1657140094/css/ie_css3fix.css\"/>\n",
            "\t<script src=\"//www.iyp.com.tw/templates/1657140094/js/libs/html5.js\"></script>\n",
            "\t<![endif]-->\n",
            "</head>\n",
            "<body class=\"list-space\">\n",
            "\t<script type=\"text/javascript\" src=\"//www.iyp.com.tw/templates/1657140094/js/swfads.js\"></script>\n",
            "<!-- æå°åè½ -->\n",
            "\n",
            "<div id=\"wrap\" class=\"\">\n",
            "<header id=\"header\" class=\"\">\n",
            "  <div id=\"logo\"> <a href=\"/\" title=\"ä¸­è¯é»é ç¶²è·¯é»è©±ç°¿\"><span>ä¸­è¯é»é ç¶²è·¯é»è©±ç°¿</span></a> </div>\n",
            "  <div id=\"search\" class=\"pnl\">\n",
            "    <ul id=\"search-tabs\">\n",
            "      <li id=\"keyword-tab\" class=\"select\"><a href=\"/search.php\" class=\"\"><span>ééµå­æå°</span></a>\n",
            "        <div class=\"form\">\n",
            "          <form method=\"GET\" name=\"keyword-search\" id=\"keyword-search-form\" accept-charset=\"utf-8\" action=\"/search.php\" onsubmit=\"return Keyword2Phone(this);\">\n",
            "            <input type=\"hidden\" class=\"keyword_a_id\" name=\"a_id\" id=\"keyword_a_id\" value=\"\"/>\n",
            "            <div class=\"select-location\">å¨å</div>\n",
            "\t\t\t      <input type=\"text\" id=\"keyword\" name=\"k\" value=\"\" autocomplete=\"off\" placeholder=\"ééµå­ãåºå\"/>\n",
            "            <button type=\"submit\" class=\"submit\" value=\"æå°\"> <span>æå°</span> </button>\n",
            "          </form>\n",
            "        </div>\n",
            "      </li>\n",
            "      <li id=\"tel-tab\" class=\"\"><a href=\"#\"><span>é»è©±æå°</span></a>\n",
            "        <div class=\"form\">\n",
            "          <form method=\"GET\" name=\"tel-search\" id=\"tel-search-form\" accept-charset=\"utf-8\" action=\"/phone.php\">\n",
            "            <input type=\"text\" id=\"tel-keyword\" name=\"phone\" value=\"\" autocomplete=\"off\" placeholder=\"åç¢¼+é»è©± ä¾:0423602111\" />\n",
            "            <button type=\"submit\" class=\"submit\" value=\"æå°\"> <span>é»è©±æå°</span> </button>\n",
            "          </form>\n",
            "        </div>\n",
            "      </li>\n",
            "      <li id=\"tax-tab\" class=\"\"><a href=\"#\"><span>çµ±ç·¨æå°</span></a>\n",
            "        <div class=\"form\">\n",
            "          <form method=\"GET\" name=\"tax-search\" id=\"tax-search-form\" accept-charset=\"utf-8\" action=\"/tax.php\">\n",
            "            <input type=\"text\" id=\"tax-keyword\" name=\"tax\" value=\"\" autocomplete=\"off\" placeholder=\"çµ±ä¸ç·¨è8ç¢¼ï¼æå¬å¸åç¨± ä¾:28465676ï¼ä¸­è¯é»é \" />\n",
            "            <button type=\"submit\" class=\"submit\" value=\"æå°\"> <span>çµ±ç·¨æå°</span> </button>\n",
            "          </form>\n",
            "        </div>\n",
            "      </li>\n",
            "      <li id=\"product-tab\" class=\"\"><a href=\"/product.php\" class=\"\"><span>ç¢åæå°</span></a>\n",
            "        <div class=\"form\">\n",
            "          <form method=\"GET\" name=\"product-search\" id=\"product-search-form\" accept-charset=\"utf-8\" action=\"/product.php\">\n",
            "\t\t\t      <input type=\"hidden\" class=\"product_a_id\" name=\"a_id\" id=\"product_a_id\" value=\"\" />\n",
            "            <div class=\"select-location\">å¨å</div>\n",
            "\t\t\t      <input type=\"text\" id=\"product-address\" name=\"product\" value=\"\" autocomplete=\"off\" placeholder=\"ç¢ååç¨±ãæåé ç®æå°å\" />\n",
            "            <button type=\"submit\" class=\"submit\" value=\"ç¢åæå°\"> <span>ç¢åæå°</span> </button>\n",
            "          </form>\n",
            "        </div>\n",
            "      </li>\n",
            "\t  <li id=\"addr-tab\" class=\"\"><a href=\"#\"><span>å°åæå°</span></a>\n",
            "        <div class=\"form\">\n",
            "          <form method=\"GET\" name=\"address-search\" id=\"addr-search-form\" accept-charset=\"utf-8\" action=\"/address.php\">\n",
            "            <input type=\"hidden\" class=\"addr_a_id\" name=\"a_id\" id=\"addr_a_id\" value=\"6\"/>\n",
            "            <div class=\"select-location\">å°åå¸</div>\n",
            "\t\t\t      <input type=\"text\" id=\"addr-search\" name=\"addr\" value=\"\" autocomplete=\"off\" placeholder=\"è«åé¸ç¸£å¸,åè¼¸å¥ååè·¯å\"/>\n",
            "            <button type=\"submit\" class=\"submit\" value=\"å°åæå°\"> <span>å°åæå°</span> </button>\n",
            "          </form>\n",
            "        </div>\n",
            "      </li>\n",
            "    </ul>\n",
            "    <div class=\"frame\"><span id=\"searchfmebg\" class=\"keyword-tab-fmbg\">&nbsp;</span>\n",
            "      <div id=\"hot-keyword\">\n",
            "        <div>\n",
            "          <h4>ç±éï¼</h4>\n",
            "          <ul>\n",
            "            <li><a href=\"#\" onclick=\"HotKeywordGoto('çé ','');\">çé </a></li>\n",
            "            <li><a href=\"#\" onclick=\"HotKeywordGoto('å·¥æ¥­','');\">å·¥æ¥­</a></li>\n",
            "            <li><a href=\"#\" onclick=\"HotKeywordGoto('éº»å°å°è³£åº','');\">éº»å°å°è³£åº</a></li>\n",
            "            <li><a href=\"#\" onclick=\"HotKeywordGoto('èªæè£ç¿ç­','');\">èªæè£ç¿ç­</a></li>\n",
            "            <li><a href=\"#\" onclick=\"HotKeywordGoto('èªååæ©æ¢°','');\">èªååæ©æ¢°</a></li>\n",
            "            <li><a href=\"#\" onclick=\"HotKeywordGoto('æ°´é»','');\">æ°´é»</a></li>\n",
            "            <li><a href=\"#\" onclick=\"HotKeywordGoto('è','');\">è</a></li>\n",
            "            <li><a href=\"#\" onclick=\"HotKeywordGoto('å°ç«é','');\">å°ç«é</a></li>\n",
            "            <li><a href=\"#\" onclick=\"HotKeywordGoto('å·¥åæ¥èª','http://note.iyp.tw/index.html');\">å·¥åæ¥èª</a></li>\n",
            "          </ul>\n",
            "        </div>\n",
            "      </div>\n",
            "    </div>\n",
            "  </div>\n",
            "  <!-- search END -->\n",
            "  <ins class=\"adsbyyp\" style=\"display:inline-block;width:300px;height:100px\" data-attr=\"YToyOntzOjQ6Ik1PREUiO3M6MToiQiI7czo0OiJBVFRSIjthOjM6e3M6NToiQ0FURVMiO3M6MToiNiI7czo0OiJQQUdFIjtzOjU6IlNIUkFEIjtzOjQ6IlNJWkUiO3M6MToiTSI7fX0=\"></ins>\n",
            "</header>\n",
            "<div id=\"head-ad\">\n",
            "    <script async src=\"//pagead2.googlesyndication.com/pagead/js/adsbygoogle.js\"></script>\n",
            "<ins class=\"adsbygoogle\" style=\"display:inline-block;width:970px;height:90px\"  data-ad-client=\"ca-pub-1750977513876331\" data-ad-slot=\"9920610601\" ></ins>\n",
            "<script>(adsbygoogle = window.adsbygoogle || []).push({});</script>\n",
            "\n",
            "</div>\n",
            "<section id=\"main\" class=\"roundbox clearfix\">\n",
            "    <img src=\"//eland.doublemax.net/cfdmp/viewreceiver?DMP_SR=SHP&DMP_SR_TY=PAGE&SINFO=http://www.iyp.com.tw/showroom.php?cate_name_eng_lv1=education&cate_name_eng_lv3=training-courses&p=1&CAT=%E8%82%B2%E6%89%8D%E5%AD%B8%E8%A1%93%2C%E8%A8%93%E7%B7%B4%2C%E8%A8%93%E7%B7%B4%E8%AA%B2%E7%A8%8B\" alt=\"\" style=\"display:none;\">\n",
            "    <div id=\"content\" class=\"content\">\n",
            "\t  \t<div id=\"breadcrumb\"><a href=\"//www.iyp.com.tw\">é¦é </a>&gt;<a href=\"/education/\">è²æå­¸è¡</a>&gt;<a href=\"/education/training/\">è¨ç·´</a>&gt;<strong>è¨ç·´èª²ç¨</strong></div>\n",
            "      \t<div id=\"search-title\" class=\"search-title\">æå°ç¬¦åã<h1>è¨ç·´èª²ç¨</h1> ãï¼å¨ã<strong>å¨å</strong>ãçåºå®¶å±æ 316 ç­è³æã</div>\n",
            "\t  \t<div id=\"related-keyword\">\n",
            "\t      \t<h4><span>ç¸éééµå­</span></h4>\n",
            "\t      \t<ul>\n",
            "\t        \t<li><h2><a href=\"/search.php?k=è¨ç·´èª²ç¨\">è¨ç·´èª²ç¨</a></h2></li>\n",
            "\t        \t<li><h2><a href=\"/search.php?k=æ½è½éç¼\">æ½è½éç¼</a></h2></li>\n",
            "\t      \t</ul>\n",
            "      \t\t<span class=\"collapse\">&nbsp;</span>\n",
            "      \t</div>\n",
            "\n",
            "\t\t<div class=\"paginator clearfix\">\n",
            "        \t<a href=\"/showroom.php?cate_name_eng_lv1=education&cate_name_eng_lv3=training-courses&p=0\" class=\"prev\" >ä¸ä¸é </a><a href=\"/showroom.php?cate_name_eng_lv1=education&cate_name_eng_lv3=training-courses&p=0\" class=\"\" >1</a><span class=\"current\">2</span><a href=\"/showroom.php?cate_name_eng_lv1=education&cate_name_eng_lv3=training-courses&p=2\" class=\"\" >3</a><a href=\"/showroom.php?cate_name_eng_lv1=education&cate_name_eng_lv3=training-courses&p=3\" class=\"\" >4</a><a href=\"/showroom.php?cate_name_eng_lv1=education&cate_name_eng_lv3=training-courses&p=4\" class=\"\" >5</a><a href=\"/showroom.php?cate_name_eng_lv1=education&cate_name_eng_lv3=training-courses&p=5\" class=\"\" >6</a><a href=\"/showroom.php?cate_name_eng_lv1=education&cate_name_eng_lv3=training-courses&p=6\" class=\"\" >7</a><a href=\"/showroom.php?cate_name_eng_lv1=education&cate_name_eng_lv3=training-courses&p=7\" class=\"\" >8</a><a href=\"/showroom.php?cate_name_eng_lv1=education&cate_name_eng_lv3=training-courses&p=8\" class=\"\" >9</a><a href=\"/showroom.php?cate_name_eng_lv1=education&cate_name_eng_lv3=training-courses&p=9\" class=\"\" >10</a><a href=\"/showroom.php?cate_name_eng_lv1=education&cate_name_eng_lv3=training-courses&p=2\" class=\"next\" >ä¸ä¸é </a>\n",
            "        \t<p class=\"top arrow\">&nbsp;</p>\n",
            "\t\t</div>\n",
            "\n",
            "      \t<section id=\"search-res\">\n",
            "\n",
            "\n",
            "\t\t\t<div class=\"general\"><span>ä¸è¬åºå®¶</span></div>\n",
            "\t\t\t<ol class=\"general\">\n",
            "\t\t\t\t<li id=\"1_1621184\" class=\"\">\n",
            "\t\t\t\t\t<h3><a href=\"//www.iyp.com.tw/0227073116\" title=\"è²¡åæ³äººä¸­è¯æ°åè·æ¥­è¨ç·´ç ç©¶ç¼å±ä¸­å¿\" target=\"_blank\" rel=\"noopener\">è²¡åæ³äººä¸­è¯æ°åè·æ¥­è¨ç·´ç ç©¶ç¼å±ä¸­å¿</a></h3>\n",
            "\t\t\t\t\t<p class=\"desc\"></p>\n",
            "\t\t\t\t\t<ul class=\"contact-info\">\n",
            "\t\t\t\t\t\t<li class=\"tel\">\n",
            "\t\t\t\t\t\t\t<span class=\"ico wtip\" title=\"é»è©±\">&nbsp;</span>\n",
            "\t\t\t\t\t\t\t<img src=\"/templates/images/loading.gif\" align=\"absbottom\" style=\"float:left;\" data-url=\"//www.iyp.com.tw/ajax.php?func=gImage&val=j0E2n%2FKGz4c8nQfkXn6w0776238V%2By%2F%2FAf2s10rhoUyhlazXrsWYxU6q7n%2BWMTx5zIVMFYlMCQI%3D\" class=\"rollLoad\"/>\n",
            "\t\t\t\t\t\t\t<em class=\"label\"></em><a class=\"more-btn\" href=\"//www.iyp.com.tw/0227073116/more-tel/\" target=\"_blank\" rel=\"noopener\">æ´å¤é»è©±</a>\n",
            "\t\t\t\t\t\t\t<ul class=\"more-data clearfix\"></ul>\n",
            "\t\t\t\t\t\t</li>\n",
            "\t\t\t\t\t\t<li class=\"address\">\n",
            "\t\t\t\t\t\t\t<span class=\"ico wtip\" title=\"å°å\">&nbsp;</span>\n",
            "\t\t\t\t\t\t\t<img src=\"/templates/images/loading.gif\" align=\"absbottom\" data-url=\"//www.iyp.com.tw/ajax.php?func=gImage&val=j0E2n%2FKGz4fXI9jg21Lc2G8z2DNJqYcOQxRHoc0LuLtQ7oSHl7JYIv%2BuniVaHu2wV7Vps9N2dGl1iKs7dnMFddkfvX4Ajj9xpx41%2BComPFQ%3D\" class=\"rollLoad\"/>&nbsp;\n",
            "\t\t\t\t\t\t\t<span class=\"view-map ico altfn\" title=\"æ¥çå°å\" go-map=\"https://www.google.com.tw/maps/search/å°åå¸å¤§å®åä¿¡ç¾©è·¯ä¸æ®µ162è\">&nbsp;</span>\n",
            "\t\t\t\t\t\t</li>\n",
            "\t\t\t\t\t</ul>\n",
            "\t\t\t\t\t<span class=\"list-id\">29</span>\n",
            "\t\t\t\t\t<div class=\"tool \"  go-ad=\"\" go-logo=\"\"> </div>\n",
            "\t\t\t\t\t<div class=\"remo-add\"> </div>\n",
            "\t\t\t\t</li>\n",
            "\t\t\t\t<li id=\"1_1860094\" class=\"\">\n",
            "\t\t\t\t\t<h3><a href=\"//www.iyp.com.tw/0800300995\" title=\"ç¾å¥½çæ´»åéæéå¬å¸\" target=\"_blank\" rel=\"noopener\">ç¾å¥½çæ´»åéæéå¬å¸</a></h3>\n",
            "\t\t\t\t\t<p class=\"desc\"></p>\n",
            "\t\t\t\t\t<ul class=\"contact-info\">\n",
            "\t\t\t\t\t\t<li class=\"tel\">\n",
            "\t\t\t\t\t\t\t<span class=\"ico wtip\" title=\"é»è©±\">&nbsp;</span>\n",
            "\t\t\t\t\t\t\t<img src=\"/templates/images/loading.gif\" align=\"absbottom\" style=\"float:left;\" data-url=\"//www.iyp.com.tw/ajax.php?func=gImage&val=j0E2n%2FKGz4c8nQfkXn6w0776238V%2By%2F%2FAf2s10rhoUzsX%2FaR0Msh6aWla4naAG6UzIVMFYlMCQI%3D\" class=\"rollLoad\"/>\n",
            "\t\t\t\t\t\t\t<em class=\"label\">åä»è²»é»è©±</em>\n",
            "\t\t\t\t\t\t\t<ul class=\"more-data clearfix\"></ul>\n",
            "\t\t\t\t\t\t</li>\n",
            "\t\t\t\t\t\t<li class=\"address\">\n",
            "\t\t\t\t\t\t\t<span class=\"ico wtip\" title=\"å°å\">&nbsp;</span>\n",
            "\t\t\t\t\t\t\t<img src=\"/templates/images/loading.gif\" align=\"absbottom\" data-url=\"\" class=\"rollLoad\"/>&nbsp;\n",
            "\t\t\t\t\t\t\t<span class=\"view-map ico altfn\" title=\"æ¥çå°å\" go-map=\"https://www.google.com.tw/maps/search/\">&nbsp;</span>\n",
            "\t\t\t\t\t\t</li>\n",
            "\t\t\t\t\t</ul>\n",
            "\t\t\t\t\t<span class=\"list-id\">30</span>\n",
            "\t\t\t\t\t<div class=\"tool \"  go-ad=\"\" go-logo=\"\"> </div>\n",
            "\t\t\t\t\t<div class=\"remo-add\"> </div>\n",
            "\t\t\t\t</li>\n",
            "\t\t\t\t<li id=\"1_1797883\" class=\"\">\n",
            "\t\t\t\t\t<h3><a href=\"//www.iyp.com.tw/073221487\" title=\"é«è²äººæåµå·¥ä½å®¤\" target=\"_blank\" rel=\"noopener\">é«è²äººæåµå·¥ä½å®¤</a></h3>\n",
            "\t\t\t\t\t<p class=\"desc\"></p>\n",
            "\t\t\t\t\t<ul class=\"contact-info\">\n",
            "\t\t\t\t\t\t<li class=\"tel\">\n",
            "\t\t\t\t\t\t\t<span class=\"ico wtip\" title=\"é»è©±\">&nbsp;</span>\n",
            "\t\t\t\t\t\t\t<img src=\"/templates/images/loading.gif\" align=\"absbottom\" style=\"float:left;\" data-url=\"//www.iyp.com.tw/ajax.php?func=gImage&val=j0E2n%2FKGz4c8nQfkXn6w0776238V%2By%2F%2FAf2s10rhoUzcjVamWQdn5TeWY3AjmmicUdFUkWqAfbE%3D\" class=\"rollLoad\"/>\n",
            "\t\t\t\t\t\t\t<em class=\"label\"></em>\n",
            "\t\t\t\t\t\t\t<ul class=\"more-data clearfix\"></ul>\n",
            "\t\t\t\t\t\t</li>\n",
            "\t\t\t\t\t\t<li class=\"address\">\n",
            "\t\t\t\t\t\t\t<span class=\"ico wtip\" title=\"å°å\">&nbsp;</span>\n",
            "\t\t\t\t\t\t\t<img src=\"/templates/images/loading.gif\" align=\"absbottom\" data-url=\"//www.iyp.com.tw/ajax.php?func=gImage&val=j0E2n%2FKGz4fXI9jg21Lc2G8z2DNJqYcOQxRHoc0LuLubRCsNWA008obsIH4KDFF2nLexUJvfAP4ZZeUd%2BFjs4jlYF8LUxSai%2FQzI%2FJ8329Y%3D\" class=\"rollLoad\"/>&nbsp;\n",
            "\t\t\t\t\t\t\t<span class=\"view-map ico altfn\" title=\"æ¥çå°å\" go-map=\"https://www.google.com.tw/maps/search/é«éå¸æ¥ æ¢åå¤§å­¸åè¡191è\">&nbsp;</span>\n",
            "\t\t\t\t\t\t</li>\n",
            "\t\t\t\t\t</ul>\n",
            "\t\t\t\t\t<span class=\"list-id\">31</span>\n",
            "\t\t\t\t\t<div class=\"tool \"  go-ad=\"\" go-logo=\"\"> </div>\n",
            "\t\t\t\t\t<div class=\"remo-add\"> </div>\n",
            "\t\t\t\t</li>\n",
            "\t\t\t\t<li id=\"1_91180\" class=\"\">\n",
            "\t\t\t\t\t<h3><a href=\"//www.iyp.com.tw/055341379\" title=\"è²¡åæ³äººä¸­åçç¢åä¸­å¿ä¸­åæåè\" target=\"_blank\" rel=\"noopener\">è²¡åæ³äººä¸­åçç¢åä¸­å¿ä¸­åæåè</a></h3>\n",
            "\t\t\t\t\t<p class=\"desc\"></p>\n",
            "\t\t\t\t\t<ul class=\"contact-info\">\n",
            "\t\t\t\t\t\t<li class=\"tel\">\n",
            "\t\t\t\t\t\t\t<span class=\"ico wtip\" title=\"é»è©±\">&nbsp;</span>\n",
            "\t\t\t\t\t\t\t<img src=\"/templates/images/loading.gif\" align=\"absbottom\" style=\"float:left;\" data-url=\"//www.iyp.com.tw/ajax.php?func=gImage&val=j0E2n%2FKGz4c8nQfkXn6w0776238V%2By%2F%2FAf2s10rhoUzcRZyk4z29Vo%2Bzz%2B1fRgTsUdFUkWqAfbE%3D\" class=\"rollLoad\"/>\n",
            "\t\t\t\t\t\t\t<em class=\"label\">ä»£è¡¨è</em><a class=\"more-btn\" href=\"//www.iyp.com.tw/055341379/more-tel/\" target=\"_blank\" rel=\"noopener\">æ´å¤é»è©±</a>\n",
            "\t\t\t\t\t\t\t<ul class=\"more-data clearfix\"></ul>\n",
            "\t\t\t\t\t\t</li>\n",
            "\t\t\t\t\t\t<li class=\"address\">\n",
            "\t\t\t\t\t\t\t<span class=\"ico wtip\" title=\"å°å\">&nbsp;</span>\n",
            "\t\t\t\t\t\t\t<img src=\"/templates/images/loading.gif\" align=\"absbottom\" data-url=\"//www.iyp.com.tw/ajax.php?func=gImage&val=j0E2n%2FKGz4fXI9jg21Lc2G8z2DNJqYcOQxRHoc0LuLv3HA5PYZui4gMUasrgz%2BnLg8dj6Fgfk5M6hEO08PAP6Ch56rntFYJJQQQuCRiYODx65FGrzFxQmQ%3D%3D\" class=\"rollLoad\"/>&nbsp;\n",
            "\t\t\t\t\t\t\t<span class=\"view-map ico altfn\" title=\"æ¥çå°å\" go-map=\"https://www.google.com.tw/maps/search/é²æç¸£æå­å¸é²æè·¯äºæ®µ225è11æ¨\">&nbsp;</span>\n",
            "\t\t\t\t\t\t</li>\n",
            "\t\t\t\t\t</ul>\n",
            "\t\t\t\t\t<span class=\"list-id\">32</span>\n",
            "\t\t\t\t\t<div class=\"tool \"  go-ad=\"\" go-logo=\"\"> </div>\n",
            "\t\t\t\t\t<div class=\"remo-add\"> </div>\n",
            "\t\t\t\t</li>\n",
            "\t\t\t\t<li id=\"1_1708156\" class=\"\">\n",
            "\t\t\t\t\t<h3><a href=\"//www.iyp.com.tw/0423396735\" title=\"éäºå¤§èæ¥­è¡ä»½æéå¬å¸\" target=\"_blank\" rel=\"noopener\">éäºå¤§èæ¥­è¡ä»½æéå¬å¸</a></h3>\n",
            "\t\t\t\t\t<p class=\"desc\"></p>\n",
            "\t\t\t\t\t<ul class=\"contact-info\">\n",
            "\t\t\t\t\t\t<li class=\"tel\">\n",
            "\t\t\t\t\t\t\t<span class=\"ico wtip\" title=\"é»è©±\">&nbsp;</span>\n",
            "\t\t\t\t\t\t\t<img src=\"/templates/images/loading.gif\" align=\"absbottom\" style=\"float:left;\" data-url=\"//www.iyp.com.tw/ajax.php?func=gImage&val=j0E2n%2FKGz4c8nQfkXn6w0776238V%2By%2F%2FAf2s10rhoUwe2tS5Xr5SUq9EreaBuYfHzIVMFYlMCQI%3D\" class=\"rollLoad\"/>\n",
            "\t\t\t\t\t\t\t<em class=\"label\"></em>\n",
            "\t\t\t\t\t\t\t<ul class=\"more-data clearfix\"></ul>\n",
            "\t\t\t\t\t\t</li>\n",
            "\t\t\t\t\t\t<li class=\"address\">\n",
            "\t\t\t\t\t\t\t<span class=\"ico wtip\" title=\"å°å\">&nbsp;</span>\n",
            "\t\t\t\t\t\t\t<img src=\"/templates/images/loading.gif\" align=\"absbottom\" data-url=\"//www.iyp.com.tw/ajax.php?func=gImage&val=j0E2n%2FKGz4fXI9jg21Lc2G8z2DNJqYcOQxRHoc0LuLvXtivnu1y68UtDw5QCbYgPmnAV%2FQiIrGoL346XUDX6ME4Z%2Bkik3Hxvx%2Fz%2Fdrk9xtE%3D\" class=\"rollLoad\"/>&nbsp;\n",
            "\t\t\t\t\t\t\t<span class=\"view-map ico altfn\" title=\"æ¥çå°å\" go-map=\"https://www.google.com.tw/maps/search/å°ä¸­å¸ä¸­ååç¥¥è¡1è3æ¨ä¹1\">&nbsp;</span>\n",
            "\t\t\t\t\t\t</li>\n",
            "\t\t\t\t\t</ul>\n",
            "\t\t\t\t\t<span class=\"list-id\">33</span>\n",
            "\t\t\t\t\t<div class=\"tool \"  go-ad=\"\" go-logo=\"\"> </div>\n",
            "\t\t\t\t\t<div class=\"remo-add\"> </div>\n",
            "\t\t\t\t</li>\n",
            "\t\t\t\t<li id=\"1_1811357\" class=\"\">\n",
            "\t\t\t\t\t<h3><a href=\"//www.iyp.com.tw/0222561300\" title=\"ä¸ç´æ£åéäºæ¥­æéå¬å¸\" target=\"_blank\" rel=\"noopener\">ä¸ç´æ£åéäºæ¥­æéå¬å¸</a></h3>\n",
            "\t\t\t\t\t<p class=\"desc\"></p>\n",
            "\t\t\t\t\t<ul class=\"contact-info\">\n",
            "\t\t\t\t\t\t<li class=\"tel\">\n",
            "\t\t\t\t\t\t\t<span class=\"ico wtip\" title=\"é»è©±\">&nbsp;</span>\n",
            "\t\t\t\t\t\t\t<img src=\"/templates/images/loading.gif\" align=\"absbottom\" style=\"float:left;\" data-url=\"//www.iyp.com.tw/ajax.php?func=gImage&val=j0E2n%2FKGz4c8nQfkXn6w0776238V%2By%2F%2FAf2s10rhoUyhlazXrsWYxc53VAK6t2xlzIVMFYlMCQI%3D\" class=\"rollLoad\"/>\n",
            "\t\t\t\t\t\t\t<em class=\"label\"></em><a class=\"more-btn\" href=\"//www.iyp.com.tw/0222561300/more-tel/\" target=\"_blank\" rel=\"noopener\">æ´å¤é»è©±</a>\n",
            "\t\t\t\t\t\t\t<ul class=\"more-data clearfix\"></ul>\n",
            "\t\t\t\t\t\t</li>\n",
            "\t\t\t\t\t\t<li class=\"address\">\n",
            "\t\t\t\t\t\t\t<span class=\"ico wtip\" title=\"å°å\">&nbsp;</span>\n",
            "\t\t\t\t\t\t\t<img src=\"/templates/images/loading.gif\" align=\"absbottom\" data-url=\"//www.iyp.com.tw/ajax.php?func=gImage&val=j0E2n%2FKGz4fXI9jg21Lc2G8z2DNJqYcOQxRHoc0LuLvP0e621cxZ8M0Rzeikr%2FYFvCIY0sbVKGVbC7wkZwJMih9Kj%2Fa2p%2F4RU9BUNgTO%2FtvIliq9zSQKHg%3D%3D\" class=\"rollLoad\"/>&nbsp;\n",
            "\t\t\t\t\t\t\t<span class=\"view-map ico altfn\" title=\"æ¥çå°å\" go-map=\"https://www.google.com.tw/maps/search/æ°åå¸æ¿æ©åæåè·¯äºæ®µ326è3æ¨\">&nbsp;</span>\n",
            "\t\t\t\t\t\t</li>\n",
            "\t\t\t\t\t</ul>\n",
            "\t\t\t\t\t<span class=\"list-id\">34</span>\n",
            "\t\t\t\t\t<div class=\"tool \"  go-ad=\"\" go-logo=\"\"> </div>\n",
            "\t\t\t\t\t<div class=\"remo-add\"> </div>\n",
            "\t\t\t\t</li>\n",
            "\t\t\t\t<li id=\"1_119380\" class=\"\">\n",
            "\t\t\t\t\t<h3><a href=\"//www.iyp.com.tw/052340400\" title=\"ä¸­ååå·¥å®å¨è¡çç®¡çå­¸æéè¨­åç¾©è·æ¥­è¨ç·´ä¸­å¿\" target=\"_blank\" rel=\"noopener\">ä¸­ååå·¥å®å¨è¡çç®¡çå­¸æéè¨­åç¾©è·æ¥­è¨ç·´ä¸­å¿</a></h3>\n",
            "\t\t\t\t\t<p class=\"desc\"></p>\n",
            "\t\t\t\t\t<ul class=\"contact-info\">\n",
            "\t\t\t\t\t\t<li class=\"tel\">\n",
            "\t\t\t\t\t\t\t<span class=\"ico wtip\" title=\"é»è©±\">&nbsp;</span>\n",
            "\t\t\t\t\t\t\t<img src=\"/templates/images/loading.gif\" align=\"absbottom\" style=\"float:left;\" data-url=\"//www.iyp.com.tw/ajax.php?func=gImage&val=j0E2n%2FKGz4c8nQfkXn6w0776238V%2By%2F%2FAf2s10rhoUzcRZyk4z29VrgRioi5xEeaUdFUkWqAfbE%3D\" class=\"rollLoad\"/>\n",
            "\t\t\t\t\t\t\t<em class=\"label\">ä»£è¡¨è</em>\n",
            "\t\t\t\t\t\t\t<ul class=\"more-data clearfix\"></ul>\n",
            "\t\t\t\t\t\t</li>\n",
            "\t\t\t\t\t\t<li class=\"address\">\n",
            "\t\t\t\t\t\t\t<span class=\"ico wtip\" title=\"å°å\">&nbsp;</span>\n",
            "\t\t\t\t\t\t\t<img src=\"/templates/images/loading.gif\" align=\"absbottom\" data-url=\"//www.iyp.com.tw/ajax.php?func=gImage&val=j0E2n%2FKGz4fXI9jg21Lc2G8z2DNJqYcOQxRHoc0LuLvThWdW5ZPUXIZ9FFJQT0MhynGHuKBt44krC%2BbF37hAd3rkUavMXFCZ\" class=\"rollLoad\"/>&nbsp;\n",
            "\t\t\t\t\t\t\t<span class=\"view-map ico altfn\" title=\"æ¥çå°å\" go-map=\"https://www.google.com.tw/maps/search/åç¾©å¸ä¸­èè·¯127è5æ¨\">&nbsp;</span>\n",
            "\t\t\t\t\t\t</li>\n",
            "\t\t\t\t\t</ul>\n",
            "\t\t\t\t\t<span class=\"list-id\">35</span>\n",
            "\t\t\t\t\t<div class=\"tool \"  go-ad=\"\" go-logo=\"\"> </div>\n",
            "\t\t\t\t\t<div class=\"remo-add\"> </div>\n",
            "\t\t\t\t</li>\n",
            "\t\t\t\t<li id=\"1_1887785\" class=\"\">\n",
            "\t\t\t\t\t<h3><a href=\"//www.iyp.com.tw/053745846\" title=\"ç¤¾åæ³äººä¸­è¯æ°åé»åæè¡è­ç§åæéè¨­è·æ¥­è¨ç·´ä¸­å¿\" target=\"_blank\" rel=\"noopener\">ç¤¾åæ³äººä¸­è¯æ°åé»åæè¡è­ç§åæéè¨­è·æ¥­è¨ç·´ä¸­å¿</a></h3>\n",
            "\t\t\t\t\t<p class=\"desc\"></p>\n",
            "\t\t\t\t\t<ul class=\"contact-info\">\n",
            "\t\t\t\t\t\t<li class=\"tel\">\n",
            "\t\t\t\t\t\t\t<span class=\"ico wtip\" title=\"é»è©±\">&nbsp;</span>\n",
            "\t\t\t\t\t\t\t<img src=\"/templates/images/loading.gif\" align=\"absbottom\" style=\"float:left;\" data-url=\"//www.iyp.com.tw/ajax.php?func=gImage&val=j0E2n%2FKGz4c8nQfkXn6w0776238V%2By%2F%2FAf2s10rhoUzcRZyk4z29Vq61oUyn0e7zUdFUkWqAfbE%3D\" class=\"rollLoad\"/>\n",
            "\t\t\t\t\t\t\t<em class=\"label\"></em><a class=\"more-btn\" href=\"//www.iyp.com.tw/053745846/more-tel/\" target=\"_blank\" rel=\"noopener\">æ´å¤é»è©±</a>\n",
            "\t\t\t\t\t\t\t<ul class=\"more-data clearfix\"></ul>\n",
            "\t\t\t\t\t\t</li>\n",
            "\t\t\t\t\t\t<li class=\"address\">\n",
            "\t\t\t\t\t\t\t<span class=\"ico wtip\" title=\"å°å\">&nbsp;</span>\n",
            "\t\t\t\t\t\t\t<img src=\"/templates/images/loading.gif\" align=\"absbottom\" data-url=\"//www.iyp.com.tw/ajax.php?func=gImage&val=j0E2n%2FKGz4fXI9jg21Lc2G8z2DNJqYcOQxRHoc0LuLuptNbbpfETJr03sR1OoyrJAUJ%2BiV0WP6Jc%2FQUlVBf8I3a4vY1bIzuERXVzW5al%2BjBR0VSRaoB9sQ%3D%3D\" class=\"rollLoad\"/>&nbsp;\n",
            "\t\t\t\t\t\t\t<span class=\"view-map ico altfn\" title=\"æ¥çå°å\" go-map=\"https://www.google.com.tw/maps/search/åç¾©ç¸£æ°æ¸¯éèå¬æèå¬å25è\">&nbsp;</span>\n",
            "\t\t\t\t\t\t</li>\n",
            "\t\t\t\t\t</ul>\n",
            "\t\t\t\t\t<span class=\"list-id\">36</span>\n",
            "\t\t\t\t\t<div class=\"tool \"  go-ad=\"\" go-logo=\"\"> </div>\n",
            "\t\t\t\t\t<div class=\"remo-add\"> </div>\n",
            "\t\t\t\t</li>\n",
            "\t\t\t\t<li id=\"1_140451\" class=\"\">\n",
            "\t\t\t\t\t<h3><a href=\"//www.iyp.com.tw/052239222\" title=\"ç¤¾åæ³äººå°ç£å¤åäººåè³æºç¼å±åæéè¨­è·æ¥­è¨ç·´ä¸­å¿\" target=\"_blank\" rel=\"noopener\">ç¤¾åæ³äººå°ç£å¤åäººåè³æºç¼å±åæéè¨­è·æ¥­è¨ç·´ä¸­å¿</a></h3>\n",
            "\t\t\t\t\t<p class=\"desc\"></p>\n",
            "\t\t\t\t\t<ul class=\"contact-info\">\n",
            "\t\t\t\t\t\t<li class=\"tel\">\n",
            "\t\t\t\t\t\t\t<span class=\"ico wtip\" title=\"é»è©±\">&nbsp;</span>\n",
            "\t\t\t\t\t\t\t<img src=\"/templates/images/loading.gif\" align=\"absbottom\" style=\"float:left;\" data-url=\"//www.iyp.com.tw/ajax.php?func=gImage&val=j0E2n%2FKGz4c8nQfkXn6w0776238V%2By%2F%2FAf2s10rhoUzcRZyk4z29VpF6ZTRXO%2FJjUdFUkWqAfbE%3D\" class=\"rollLoad\"/>\n",
            "\t\t\t\t\t\t\t<em class=\"label\">ä»£è¡¨è</em>\n",
            "\t\t\t\t\t\t\t<ul class=\"more-data clearfix\"></ul>\n",
            "\t\t\t\t\t\t</li>\n",
            "\t\t\t\t\t\t<li class=\"address\">\n",
            "\t\t\t\t\t\t\t<span class=\"ico wtip\" title=\"å°å\">&nbsp;</span>\n",
            "\t\t\t\t\t\t\t<img src=\"/templates/images/loading.gif\" align=\"absbottom\" data-url=\"//www.iyp.com.tw/ajax.php?func=gImage&val=j0E2n%2FKGz4fXI9jg21Lc2G8z2DNJqYcOQxRHoc0LuLvThWdW5ZPUXKu%2BrVcx63oNFpXw0GRmtw4kGCnghL8HRHrkUavMXFCZ\" class=\"rollLoad\"/>&nbsp;\n",
            "\t\t\t\t\t\t\t<span class=\"view-map ico altfn\" title=\"æ¥çå°å\" go-map=\"https://www.google.com.tw/maps/search/åç¾©å¸åè¯è¡245è6æ¨\">&nbsp;</span>\n",
            "\t\t\t\t\t\t</li>\n",
            "\t\t\t\t\t</ul>\n",
            "\t\t\t\t\t<span class=\"list-id\">37</span>\n",
            "\t\t\t\t\t<div class=\"tool \"  go-ad=\"\" go-logo=\"\"> </div>\n",
            "\t\t\t\t\t<div class=\"remo-add\"> </div>\n",
            "\t\t\t\t</li>\n",
            "\t\t\t\t<li id=\"1_152083\" class=\"\">\n",
            "\t\t\t\t\t<h3><a href=\"//www.iyp.com.tw/052228465\" title=\"åç¾©å¸ç§ç«å°çæèªæç­æè£ç¿ç­\" target=\"_blank\" rel=\"noopener\">åç¾©å¸ç§ç«å°çæèªæç­æè£ç¿ç­</a></h3>\n",
            "\t\t\t\t\t<p class=\"desc\"></p>\n",
            "\t\t\t\t\t<ul class=\"contact-info\">\n",
            "\t\t\t\t\t\t<li class=\"tel\">\n",
            "\t\t\t\t\t\t\t<span class=\"ico wtip\" title=\"é»è©±\">&nbsp;</span>\n",
            "\t\t\t\t\t\t\t<img src=\"/templates/images/loading.gif\" align=\"absbottom\" style=\"float:left;\" data-url=\"//www.iyp.com.tw/ajax.php?func=gImage&val=j0E2n%2FKGz4c8nQfkXn6w0776238V%2By%2F%2FAf2s10rhoUzcRZyk4z29VmL1mwI4DD9gUdFUkWqAfbE%3D\" class=\"rollLoad\"/>\n",
            "\t\t\t\t\t\t\t<em class=\"label\"></em><a class=\"more-btn\" href=\"//www.iyp.com.tw/052228465/more-tel/\" target=\"_blank\" rel=\"noopener\">æ´å¤é»è©±</a>\n",
            "\t\t\t\t\t\t\t<ul class=\"more-data clearfix\"></ul>\n",
            "\t\t\t\t\t\t</li>\n",
            "\t\t\t\t\t\t<li class=\"address\">\n",
            "\t\t\t\t\t\t\t<span class=\"ico wtip\" title=\"å°å\">&nbsp;</span>\n",
            "\t\t\t\t\t\t\t<img src=\"/templates/images/loading.gif\" align=\"absbottom\" data-url=\"//www.iyp.com.tw/ajax.php?func=gImage&val=j0E2n%2FKGz4fXI9jg21Lc2G8z2DNJqYcOQxRHoc0LuLt36IqeLPop5IZ9FFJQT0Mh3uO1DctrXEYDMJfCVBhWYpS0d39MWBgj\" class=\"rollLoad\"/>&nbsp;\n",
            "\t\t\t\t\t\t\t<span class=\"view-map ico altfn\" title=\"æ¥çå°å\" go-map=\"https://www.google.com.tw/maps/search/åç¾©å¸ä¸­å±±è·¯436è\">&nbsp;</span>\n",
            "\t\t\t\t\t\t</li>\n",
            "\t\t\t\t\t</ul>\n",
            "\t\t\t\t\t<span class=\"list-id\">38</span>\n",
            "\t\t\t\t\t<div class=\"tool \"  go-ad=\"\" go-logo=\"\"> </div>\n",
            "\t\t\t\t\t<div class=\"remo-add\"> </div>\n",
            "\t\t\t\t</li>\n",
            "\t\t\t</ol>\n",
            "    \t</section>\n",
            "\n",
            "      \t<div class=\"paginator clearfix\">\n",
            "        \t<a href=\"/showroom.php?cate_name_eng_lv1=education&cate_name_eng_lv3=training-courses&p=0\" class=\"prev\" >ä¸ä¸é </a><a href=\"/showroom.php?cate_name_eng_lv1=education&cate_name_eng_lv3=training-courses&p=0\" class=\"\" >1</a><span class=\"current\">2</span><a href=\"/showroom.php?cate_name_eng_lv1=education&cate_name_eng_lv3=training-courses&p=2\" class=\"\" >3</a><a href=\"/showroom.php?cate_name_eng_lv1=education&cate_name_eng_lv3=training-courses&p=3\" class=\"\" >4</a><a href=\"/showroom.php?cate_name_eng_lv1=education&cate_name_eng_lv3=training-courses&p=4\" class=\"\" >5</a><a href=\"/showroom.php?cate_name_eng_lv1=education&cate_name_eng_lv3=training-courses&p=5\" class=\"\" >6</a><a href=\"/showroom.php?cate_name_eng_lv1=education&cate_name_eng_lv3=training-courses&p=6\" class=\"\" >7</a><a href=\"/showroom.php?cate_name_eng_lv1=education&cate_name_eng_lv3=training-courses&p=7\" class=\"\" >8</a><a href=\"/showroom.php?cate_name_eng_lv1=education&cate_name_eng_lv3=training-courses&p=8\" class=\"\" >9</a><a href=\"/showroom.php?cate_name_eng_lv1=education&cate_name_eng_lv3=training-courses&p=9\" class=\"\" >10</a><a href=\"/showroom.php?cate_name_eng_lv1=education&cate_name_eng_lv3=training-courses&p=2\" class=\"next\" >ä¸ä¸é </a>\n",
            "        \t<p class=\"bottom arrow\">&nbsp;</p>\n",
            "\t\t</div>\n",
            "\n",
            "\t\t<div class=\"g-ad\">\n",
            "\t\t\t<script type=\"text/javascript\"><!--\n",
            "\t\t\t\tgoogle_ad_client = \"ca-pub-1750977513876331\";\n",
            "\t\t\t\tgoogle_ad_host = \"ca-host-pub-7475939466736018\";\n",
            "\t\t\t\tgoogle_ad_host_channel = \"1246234557\";\n",
            "\t\t\t\t/* ä¸­è¯é»é _åºå®¶åè¡¨_468x60_ä¸ */\n",
            "\t\t\t\tgoogle_ad_slot = \"3838187256\";\n",
            "\t\t\t\tgoogle_ad_width = 468;\n",
            "\t\t\t\tgoogle_ad_height = 60;\n",
            "\t\t\t\t//-->\n",
            "\t\t\t</script>\n",
            "\t\t\t<script type=\"text/javascript\" src=\"//pagead2.googlesyndication.com/pagead/show_ads.js\"></script>\n",
            "\t\t</div>\n",
            "      \t<div id=\"outside-search\"></div>\n",
            "    </div>\n",
            "\n",
            "\t<div id=\"left-sider\">\n",
            "\t\t<div class=\"district filter\">\n",
            "\t\t\t<h4>ååç¯©é¸</h4>\n",
            "\t\t\t<ul>\n",
            "\t\t\t\t<li class=\"all current\"><a href=\"/showroom.php?cate_name_eng_lv1=education&cate_name_eng_lv3=training-courses&a_id=0\">å¨å</a><span class=\"count\"><span class=\"lf\"><span class=\"rt\">316</span></span></span></li>\n",
            "\t\t\t\t<li>\n",
            "\t\t\t\t<h3>åé¨å°å</h3>\n",
            "\t\t\t\t<ul>\n",
            "\t\t\t\t\t<li ><a href=/showroom.php?cate_name_eng_lv1=education&cate_name_eng_lv3=training-courses&a_id=1>å®è­ç¸£</a><span class=\"count\"><span class=\"lf\"><span class=\"rt\">1</span></span></span></li><li ><a href=/showroom.php?cate_name_eng_lv1=education&cate_name_eng_lv3=training-courses&a_id=3>åºéå¸</a><span class=\"count\"><span class=\"lf\"><span class=\"rt\">3</span></span></span></li><li ><a href=/showroom.php?cate_name_eng_lv1=education&cate_name_eng_lv3=training-courses&a_id=4>æ°åå¸</a><span class=\"count\"><span class=\"lf\"><span class=\"rt\">33</span></span></span></li><li ><a href=/showroom.php?cate_name_eng_lv1=education&cate_name_eng_lv3=training-courses&a_id=5>æ¡åå¸</a><span class=\"count\"><span class=\"lf\"><span class=\"rt\">14</span></span></span></li><li ><a href=/showroom.php?cate_name_eng_lv1=education&cate_name_eng_lv3=training-courses&a_id=6>å°åå¸</a><span class=\"count\"><span class=\"lf\"><span class=\"rt\">113</span></span></span></li><li ><a href=/showroom.php?cate_name_eng_lv1=education&cate_name_eng_lv3=training-courses&a_id=7>æ°ç«¹ç¸£</a><span class=\"count\"><span class=\"lf\"><span class=\"rt\">4</span></span></span></li><li ><a href=/showroom.php?cate_name_eng_lv1=education&cate_name_eng_lv3=training-courses&a_id=8>èæ ç¸£</a><span class=\"count\"><span class=\"lf\"><span class=\"rt\">5</span></span></span></li>\n",
            "\t\t\t\t</ul>\n",
            "\t\t\t\t</li>\n",
            "\t\t\t\t<li>\n",
            "\t\t\t\t<h3>ä¸­é¨å°å</h3>\n",
            "\t\t\t\t<ul>\n",
            "\t\t\t\t\t<li ><a href=/showroom.php?cate_name_eng_lv1=education&cate_name_eng_lv3=training-courses&a_id=9>å°ä¸­å¸</a><span class=\"count\"><span class=\"lf\"><span class=\"rt\">44</span></span></span></li><li ><a href=/showroom.php?cate_name_eng_lv1=education&cate_name_eng_lv3=training-courses&a_id=11>å½°åç¸£</a><span class=\"count\"><span class=\"lf\"><span class=\"rt\">5</span></span></span></li><li ><a href=/showroom.php?cate_name_eng_lv1=education&cate_name_eng_lv3=training-courses&a_id=12>åæç¸£</a><span class=\"count\"><span class=\"lf\"><span class=\"rt\">3</span></span></span></li><li ><a href=/showroom.php?cate_name_eng_lv1=education&cate_name_eng_lv3=training-courses&a_id=13>é²æç¸£</a><span class=\"count\"><span class=\"lf\"><span class=\"rt\">2</span></span></span></li>\n",
            "\t\t\t\t</ul>\n",
            "\t\t\t\t</li>\n",
            "\t\t\t\t<li>\n",
            "\t\t\t\t<h3>åé¨å°å</h3>\n",
            "\t\t\t\t<ul>\n",
            "\t\t\t\t\t<li ><a href=/showroom.php?cate_name_eng_lv1=education&cate_name_eng_lv3=training-courses&a_id=14>åç¾©ç¸£</a><span class=\"count\"><span class=\"lf\"><span class=\"rt\">15</span></span></span></li><li ><a href=/showroom.php?cate_name_eng_lv1=education&cate_name_eng_lv3=training-courses&a_id=15>å°åå¸</a><span class=\"count\"><span class=\"lf\"><span class=\"rt\">15</span></span></span></li><li ><a href=/showroom.php?cate_name_eng_lv1=education&cate_name_eng_lv3=training-courses&a_id=18>é«éå¸</a><span class=\"count\"><span class=\"lf\"><span class=\"rt\">43</span></span></span></li><li ><a href=/showroom.php?cate_name_eng_lv1=education&cate_name_eng_lv3=training-courses&a_id=21>å±æ±ç¸£</a><span class=\"count\"><span class=\"lf\"><span class=\"rt\">8</span></span></span></li>\n",
            "\t\t\t\t</ul>\n",
            "\t\t\t\t</li>\n",
            "\t\t\t\t<li>\n",
            "\t\t\t\t<h3>æ±é¨å°å</h3>\n",
            "\t\t\t\t<ul>\n",
            "\t\t\t\t\t<li ><a href=/showroom.php?cate_name_eng_lv1=education&cate_name_eng_lv3=training-courses&a_id=2>è±è®ç¸£</a><span class=\"count\"><span class=\"lf\"><span class=\"rt\">2</span></span></span></li><li ><a href=/showroom.php?cate_name_eng_lv1=education&cate_name_eng_lv3=training-courses&a_id=22>å°æ±ç¸£</a><span class=\"count\"><span class=\"lf\"><span class=\"rt\">1</span></span></span></li>\n",
            "\t\t\t\t</ul>\n",
            "\t\t\t\t</li>\n",
            "\t\t\t\t<li>\n",
            "\t\t\t\t<h3>é¢å³¶å°å</h3>\n",
            "\t\t\t\t<ul>\n",
            "\t\t\t\t\t<li ><a href=/showroom.php?cate_name_eng_lv1=education&cate_name_eng_lv3=training-courses&a_id=20>ééç¸£</a><span class=\"count\"><span class=\"lf\"><span class=\"rt\">3</span></span></span></li>\n",
            "\t\t\t\t</ul>\n",
            "\t\t\t\t</li>\n",
            "\t\t\t</ul>\n",
            "      \t</div>\n",
            "      \t<div id=\"page-description\">å¨ä¸­è¯é»é ï¼ä½ å¯ä»¥é¨ææ¾å°<strong>è¨ç·´èª²ç¨</strong>è<strong>æ½è½éç¼</strong>èª²ç¨ï¼è®æ¨è¼é¬çè¦½ä¸¦è¿éç²å¾<strong>è¨ç·´èª²ç¨</strong>ç¸éè¨æ¯ï¼ç¬¬ä¸æç<strong>è¨ç·´èª²ç¨</strong>è³è¨å¤§å¨ï¼åç¨®<strong>è¨ç·´èª²ç¨</strong>çè¯çµ¡æ¹å¼åæ´»åï¼è®æ¨ç²å¾æ´æ·±å¥ç<strong>è¨ç·´èª²ç¨</strong>è³æï¼æ´Eåäºæ¨çæ¶è²»è³è¨ï¼åç¾è¬è±¡ç<strong>è¨ç·´èª²ç¨</strong>ï¼ä½ å¯ä»¥å¨ä¸­è¯é»é æ¾å°å¨å°ç£åç¸£å¸<strong>è¨ç·´èª²ç¨</strong>çè¨æ¯ã</div>\n",
            "      \t<div class=\"new storebox\">\n",
            "        \t<h4>æ°é²åºå®¶</h4>\n",
            "        \t<ul>\n",
            "          \t\t<li>\n",
            "            \t\t<h3><a href=\"http://www.denba.com.tw\" target=\"_blank\" title=\"ç©é ä¼æ¥­æéå¬å¸\" rel=\"noopener\">ç©é ä¼æ¥­æéå¬å¸</a></h3>\n",
            "            \t\t<p>ç§æå¤¾ï¼é»é¸ï¼BP-12220,å°å©BP-1222012V22AHã\r\n",
            "</p>\n",
            "          \t\t</li>\n",
            "          \t\t<li>\n",
            "            \t\t<h3><a href=\"http://www.ho-hung.com.tw\" target=\"_blank\" title=\"ç¦¾å¼çææéå¬å¸\" rel=\"noopener\">ç¦¾å¼çææéå¬å¸</a></h3>\n",
            "            \t\t<p>ç¦¾å¼çæ0973-121730å°æä¾çµ¦æ¨å°æ¥­çæ»èæè¡ï¼å¸¸æº«é£å(ä¸ä¿å­</p>\n",
            "          \t\t</li>\n",
            "          \t\t<li>\n",
            "            \t\t<h3><a href=\"http://www.xn--kpr292cqnev6bv77a.tw\" target=\"_blank\" title=\"ä¿å¥é£åçæ¨è\" rel=\"noopener\">ä¿å¥é£åçæ¨è</a></h3>\n",
            "            \t\t<p></p>\n",
            "          \t\t</li>\n",
            "          \t\t<li>\n",
            "            \t\t<h3><a href=\"http://www.hsbcpawn.com.tw\" target=\"_blank\" title=\"å¯è±ç¶è\" rel=\"noopener\">å¯è±ç¶è</a></h3>\n",
            "            \t\t<p>å¯è±ç¶èæ¯ä¸éæ­£æ´¾åæ³çé«éæ©é ­ç¶éªï¼å°æ¥­æåæä¾æ©é ­åé¢,æ¥ æ¢åæ¬¾,æ©</p>\n",
            "          \t\t</li>\n",
            "          \t\t<li>\n",
            "            \t\t<h3><a href=\"http://www.0928192096.com.tw\" target=\"_blank\" title=\"è²«å»·çé£¾è¡\" rel=\"noopener\">è²«å»·çé£¾è¡</a></h3>\n",
            "            \t\t<p>è²«å»·çé£¾è¡æåå®åãå®¢è£½è¦åãå¹æ ¼å¯¦å¨ãå°æ¥­æºæ§åéç·æ¢çãéæ¢çãéæ¢</p>\n",
            "          \t\t</li>\n",
            "        \t</ul>\n",
            "      \t</div>\n",
            "    </div>\n",
            "\n",
            "    <div id=\"right-sider\">\n",
            "\t\t<div class=\"g-ad\">\n",
            "        \t<script type=\"text/javascript\"><!--\n",
            "        \t\tgoogle_ad_client = \"ca-pub-1750977513876331\";\n",
            "        \t\tgoogle_ad_host = \"ca-host-pub-7475939466736018\";\n",
            "        \t\tgoogle_ad_host_channel = \"1246234557\";\n",
            "        \t\t/* ä¸­è¯é»é _åºå®¶åè¡¨_300x250_å³ä¸ */\n",
            "        \t\tgoogle_ad_slot = \"2361454054\";\n",
            "        \t\tgoogle_ad_width = 300;\n",
            "        \t\tgoogle_ad_height = 250;\n",
            "        \t\t//-->\n",
            "        \t</script>\n",
            "        \t<script type=\"text/javascript\"src=\"//pagead2.googlesyndication.com/pagead/show_ads.js\"></script>\n",
            "      \t</div>\n",
            "\t    <ins class=\"adsbyyp\" style=\"display:inline-block;width:300px;height:100px\" data-attr=\"YToyOntzOjQ6Ik1PREUiO3M6MToiQiI7czo0OiJBVFRSIjthOjM6e3M6NToiQ0FURVMiO3M6MToiNiI7czo0OiJQQUdFIjtzOjU6IlNIUkFEIjtzOjQ6IlNJWkUiO3M6MToiTSI7fX0=\"></ins>\n",
            "\t\t<ins class=\"adsbyyp\" style=\"display:inline-block;width:300px;height:250px\" data-attr=\"YToyOntzOjQ6Ik1PREUiO3M6MToiQiI7czo0OiJBVFRSIjthOjM6e3M6NToiQ0FURVMiO3M6MToiNiI7czo0OiJQQUdFIjtzOjU6IlNIUkFEIjtzOjQ6IlNJWkUiO3M6MToiUiI7fX0=\"></ins>\n",
            "\n",
            "\n",
            "       \t<iframe src=\"//www.facebook.com/plugins/likebox.php?href=http%3A%2F%2Fwww.facebook.com%2Fiyptw&amp;width=294&amp;height=558&amp;show_faces=true&amp;colorscheme=light&amp;stream=true&amp;border_color&amp;header=false&amp;appId=118130718291459\" scrolling=\"no\" frameborder=\"0\" style=\"border:none; overflow:hidden; width:294px; height:558px;\" allowTransparency=\"true\"></iframe>\n",
            "    </div>\n",
            "    </section>\n",
            "\n",
            "    <footer id=\"footer\" class=\"\">\n",
            "      <div class=\"wrap\">\n",
            "        <div id=\"footer-nav\" class=\"clearfix\">\n",
            "          <div class=\"col\">\n",
            "            <h5>Super hiPage</h5>\n",
            "            <ul>\n",
            "              <li><a href=\"https://www.chyp.com.tw/about-us.html\" title=\"éæ¼æå\">éæ¼æå</a></li>\n",
            "              <li class=\"fb\"><a target=\"_blank\" href=\"https://www.facebook.com/iyptw\" title=\"å å¥Super hiPage Facebookç²çµ²å°é \" rel=\"noopener\"><span class=\"ico\">&nbsp;</span>Facebookç²çµ²å°é </a></li>\n",
            "              <li><a href=\"/sitemap.html\" title=\"ç¶²ç«å°è¦½\">ç¶²ç«å°è¦½</a></li>\n",
            "              <li><a href=\"/privacy.html\" title=\"é±ç§æ¬æ¿ç­\">é±ç§æ¬æ¿ç­</a></li>\n",
            "              <li><a href=\"/service.html\" title=\"æåæ¢æ¬¾\">æåæ¢æ¬¾</a></li>\n",
            "              <li><a href=\"/contact.php\" title=\"è¯çµ¡æå\">è¯çµ¡æå</a></li>\n",
            "            </ul>\n",
            "          </div>\n",
            "          <div class=\"col\">\n",
            "            <h5>å»£ååªé«</h5>\n",
            "            <ul>\n",
            "              <li><a href=\"https://www.chyp.com.tw/online-media.html\" title=\"ç·ä¸åªé«\" target=\"_blank\" rel=\"noopener\">ç·ä¸åªé«</a></li>\n",
            "              <li><a href=\"https://www.chyp.com.tw/outdoor.html\" title=\"æ¶å¤åªé«\" target=\"_blank\" rel=\"noopener\">æ¶å¤åªé«</a></li>\n",
            "              <li><a href=\"https://www.chyp.com.tw/print-ads.html\" title=\"å¹³é¢å»£å\" target=\"_blank\" rel=\"noopener\">å¹³é¢å»£å</a></li>\n",
            "              <li><a href=\"https://note.iyp.tw/\" target=\"_blank\" title=\"å·¥åæ¥èª\" rel=\"noopener\">å·¥åæ¥èª</a></li>\n",
            "            </ul>\n",
            "          </div>\n",
            "          <div class=\"col related-web\">\n",
            "            <h5>ç¸éè³è¨</h5>\n",
            "            <ul>\n",
            "              <li><a href=\"http://biz.every8d.com/hipage/\" target=\"_blank\" rel=\"noopener\">ç°¡è¨å¹³å°</a></li>\n",
            "              <li><a href=\"https://space.iyp.com.tw/apps/CHYP/chyp_pages.doc\" target=\"_blank\" rel=\"noopener\">é»ç½é é ç¨</a></li>\n",
            "              <li><a href=\"https://www.hinet.net/\" target=\"_blank\" rel=\"noopener\">HiNet</a></li>\n",
            "              <li><a href=\"https://www.cht.com.tw/\" target=\"_blank\" rel=\"noopener\">ä¸­è¯é»ä¿¡</a></li>\n",
            "              <li><a href=\"https://www.taiwan-yellowpages.com.tw/\" target=\"_blank\" rel=\"noopener\">è±æé»é (ENG)</a></li>\n",
            "              <li><a href=\"https://space.iyp.com.tw/apps/PYP/2013_ask_PYP/PYP_ask.htm\" target=\"_blank\" style=\"color:#EB0707\" rel=\"noopener\">å¹³é¢åç©ç´¢å</a></li>\n",
            "            </ul>\n",
            "          </div>\n",
            "        </div>\n",
            "\n",
            "        <div id=\"copyright\" class=\"close\">\n",
            "            <ul class=\"service-tel\">\n",
            "                <li>\n",
            "                    ä¸­è¯é»é æåå°ç·:<span>0800-080-580</span>\n",
            "                </li>\n",
            "                <li>\n",
            "                    å®¢æä¿¡ç®±:<a href=\"mailto:service@chyp.com.tw\">service@chyp.com.tw</a>\n",
            "                </li>\n",
            "            </ul>\n",
            "            ä¸­è¯é»é å¤åªé«æ´åè¡é·è¡ä»½æéå¬å¸ &copy; çæ¬ææ\n",
            "            <div style=\"text-align: center; clear: both; font-size: 14px; padding: 10px; border-top: 1px solid #e2e2e2; border-bottom: 1px solid #e2e2e2; margin-top: 16px;\">\n",
            "                ä¸­è¯é»é ç¶²è·¯é»è©±ç°¿åç»è³è¨å¦æé¯èª¤æä¸åç»ï¼è«æ´½æ¬å¬å¸<a href=\"mailto:service@chyp.com.tw\">å®¢æä¿¡ç®±</a>ï¼æåå°æä¾ç¸éåå©è³è¨ãåéç¢ºèªæ´æ­£ã<br>\n",
            "                <small>æ¬ç¶²ç«å§å®¹åè³è¨åä½çºä½¿ç¨èæ¥è©¢åèï¼ä¸ä½çºäº¤æææ±ºç­ä¾æã</small>\n",
            "            </div>\n",
            "        </div>\n",
            "      </div>\n",
            "      <span class=\"collapse\"></span>\n",
            "      </footer>\n",
            "    </div>\n",
            "\n",
            "    <div id=\"infobar\">\n",
            "\t<div class=\"wrap\">\n",
            "\t\t<ul class=\"left\">\n",
            "\t\t\t<li class=\"reg-store\">\n",
            "    \t\t\t<a href=\"https://www.iyp.com.tw/stores/register/\"><span class=\"ico\"></span>ç»éæ¨çåºå®¶</a>\n",
            "\t\t\t</li>\n",
            "\t\t</ul>\n",
            "\t\t<ul class=\"right\">\n",
            "\t\t\t<li><a href=\"/account/Login/\" id=\"login\">ç»å¥</a></li>\n",
            "\t\t\t<li><a href=\"/account/Login/\" id=\"register\">è¨»å</a></li>\n",
            "\t\t\t<li class=\"fb\">\n",
            "                <iframe src=\"//www.facebook.com/plugins/like.php?href=http%3A%2F%2Fwww.facebook.com%2Fiyptw&amp;send=false&amp;layout=button_count&amp;width=80&amp;show_faces=false&amp;font&amp;colorscheme=light&amp;action=like&amp;height=35&amp;appId=118130718291459\" scrolling=\"no\" frameborder=\"0\" style=\"border:none; overflow:hidden; width:80px; height:21px;\" allowTransparency=\"true\"></iframe>\n",
            "            </li>\n",
            "\t\t</ul>\n",
            "\t</div>\n",
            "</div>\n",
            "<div style=\"display:none\">\n",
            "\t<div id=\"login-box\">\n",
            "\t    <h2 id=\"login-h2\">ç»å¥<a href=\"#\" id=\"signup-btn\" class=\"login-btn\">è¨»å</a></h2>\n",
            "\t    <h2 id=\"signup-h2\" style=\"display:none;\">è¨»å<a href=\"#\" id=\"login-btn\" class=\"login-btn\">ç»å¥</a></h2>\n",
            "\t    <h2 style=\"display:none;\" id=\"forgot-h2\">å¿è¨å¯ç¢¼</h2>\n",
            "\t    <form method=\"post\" id=\"login-form\" action=\"\" param=\"https://www.iyp.com.tw\">\n",
            "\t    <input type=\"hidden\" name=\"redirect\" value=\"%2F%2Fwww.iyp.com.tw%2Fshowroom.php%3Fcate_name_eng_lv1%3Deducation%26cate_name_eng_lv3%3Dtraining-courses%26p%3D1\">\n",
            "\t        <div>\n",
            "\t            <label for=\"email\">é»å­éµä»¶: </label>\n",
            "\t            <input type=\"text\" name=\"account\" id=\"username\" class=\"required email\"/>\n",
            "\t        </div>\n",
            "\t        <div id=\"password\">\n",
            "\t            <label for=\"passwd\">å¯ç¢¼: </label>\n",
            "\t            <input type=\"password\" name=\"passwd\" id=\"passwd\" class=\"required\" />\n",
            "\t            <a href=\"#\" id=\"forgot\" class=\"forgot-btn\">å¿è¨å¯ç¢¼ï¼</a>\n",
            "\t        </div>\n",
            "\t        <div id=\"confirm-password\" style=\"display:none\">\n",
            "\t            <label for=\"confirm-passwd\">ç¢ºèªå¯ç¢¼: </label>\n",
            "\t            <input type=\"password\" name=\"passwdagain\" id=\"confirm-passwd\" class=\"required\" equalTo=\"#passwd\"/>\n",
            "\t        </div>\n",
            "\t        <div id=\"captcha-div\">\n",
            "\t            <label for=\"captcha\">é©è­ç¢¼: </label>\n",
            "\t            <div id=\"login-captcha\"></div>\n",
            "\t            <a style=\"display:none\" href=\"#\" id=\"cancel-forgot\" class=\"cancel-btn\">è¿åç»å¥</a>\n",
            "\t        </div>\n",
            "\t        <div>\n",
            "\t            <label id=\"label_persistent\" for=\"persistent\">\n",
            "\t                <input id=\"persistent\" class=\"inputcheckbox\" type=\"checkbox\" name=\"persistent\" value=\"rememberme\"/>è¨ä½æ\n",
            "\t            </label>\n",
            "\t            <label id=\"label_agree\" for=\"agree\" style=\"display:none;\">\n",
            "\t                <input type=\"checkbox\" name=\"agree\" id=\"agree\" value=\"agree\" class=\"inputcheckbox required\"/>æåæ<a target=\"_blank\" href=\"https://www.iyp.com.tw/service.html\" rel=\"noopener\">ä¸­è¯é»é æåæ¢æ¬¾</a>\n",
            "\t            </label>\n",
            "\t            <button class=\"yp-submit-btn\" value=\"ç»å¥\" type=\"submit\" id=\"login-submit\"><span>ç»å¥</span></button>\n",
            "\t            <button class=\"yp-submit-btn\" value=\"è¨»å\" type=\"submit\" id=\"signup-submit\" style=\"display:none;\"><span>è¨»å</span></button>\n",
            "\t            <button class=\"yp-submit-btn\" value=\"å¯éå¯ç¢¼éè¨­ä¿¡\" type=\"submit\" id=\"forgot-submit\" style=\"display:none;\"><span>å¯éå¯ç¢¼éè¨­ä¿¡</span></button>\n",
            "\t        </div>\n",
            "\t    </form>\n",
            "\t    <div id=\"open-id\">\n",
            "\t        <p>æä»¥ä¸åæ¹å¼ç»å¥: </p>\n",
            "\t        <ul class=\"clearfix\">\n",
            "\t            <li>\n",
            "                    <a href=\"#\" id=\"op-facebook\" >\n",
            "                        <span class=\"ico facebook-ico\"></span>\n",
            "                        <span>Facebook</span>\n",
            "                    </a>\n",
            "                </li>\n",
            "\t            <li>\n",
            "                    <a href=\"#\" id=\"op-google\">\n",
            "                        <span class=\"ico google-ico\"></span>\n",
            "                        <span>Google</span>\n",
            "                    </a>\n",
            "                </li>\n",
            "\t        </ul>\n",
            "\t    </div>\n",
            "\t</div>\n",
            "</div>\n",
            "\n",
            "    <div id=\"location-menu\">\n",
            "      <div>\n",
            "        <ul id=\"location-list\">\n",
            "          <li class=\"option\">\n",
            "            <ul>\n",
            "              <li class=\"all\"><a href=\"#\" class=\"0\">å¨å</a></li>\n",
            "              <li class=\"my\"></li>\n",
            "            </ul>\n",
            "          </li>\n",
            "          <li class=\"dist first\"><strong>åå</strong>\n",
            "            <ul>\n",
            "              <li><a href=\"#\" class=\"1\">å®è­ç¸£</a></li>\n",
            "              <li><a href=\"#\" class=\"3\">åºéå¸</a></li>\n",
            "              <li><a href=\"#\" class=\"4\">æ°åå¸</a></li>\n",
            "              <li><a href=\"#\" class=\"6\">å°åå¸</a></li>\n",
            "              <li><a href=\"#\" class=\"5\">æ¡åå¸</a></li>\n",
            "              <li><a href=\"#\" class=\"7\">æ°ç«¹ç¸£å¸</a></li>\n",
            "              <li><a href=\"#\" class=\"8\">èæ ç¸£</a></li>\n",
            "            </ul>\n",
            "          </li>\n",
            "          <li class=\"dist\"><strong>ä¸­å</strong>\n",
            "            <ul>\n",
            "              <li><a href=\"#\" class=\"9\">å°ä¸­å¸</a></li>\n",
            "              <li><a href=\"#\" class=\"11\">å½°åç¸£</a></li>\n",
            "              <li><a href=\"#\" class=\"12\">åæç¸£</a></li>\n",
            "              <li><a href=\"#\" class=\"13\">é²æç¸£</a></li>\n",
            "            </ul>\n",
            "          </li>\n",
            "          <li class=\"dist\"><strong>åå</strong>\n",
            "            <ul>\n",
            "              <li><a href=\"#\" class=\"14\">åç¾©ç¸£å¸</a></li>\n",
            "              <li><a href=\"#\" class=\"15\">å°åå¸</a></li>\n",
            "              <li><a href=\"#\" class=\"18\">é«éå¸</a></li>\n",
            "              <li><a href=\"#\" class=\"21\">å±æ±ç¸£</a></li>\n",
            "            </ul>\n",
            "          </li>\n",
            "          <li class=\"dist\"><strong>æ±å</strong>\n",
            "            <ul>\n",
            "              <li><a href=\"#\" class=\"2\">è±è®ç¸£</a></li>\n",
            "              <li><a href=\"#\" class=\"22\">å°æ±ç¸£</a></li>\n",
            "            </ul>\n",
            "          </li>\n",
            "          <li class=\"dist\"><strong>é¢å³¶</strong>\n",
            "            <ul>\n",
            "              <li><a href=\"#\" class=\"17\">æ¾æ¹ç¸£</a></li>\n",
            "              <li><a href=\"#\" class=\"23\">é¦¬ç¥</a></li>\n",
            "              <li><a href=\"#\" class=\"20\">ééç¸£</a></li>\n",
            "            </ul>\n",
            "          </li>\n",
            "        </ul>\n",
            "      </div>\n",
            "      <span class=\"arw\"></span>\n",
            "      <div class=\"closebtn\">&nbsp;</div>\n",
            "    </div>\n",
            "\n",
            "\n",
            "\t<script type=\"text/javascript\" src=\"/templates/1657140094/js/libs/jq.bundle.min.gz.js\"></script>\n",
            "\t<script type=\"text/javascript\" src=\"/templates/1657140094/js/libs/jquery.validate.pack.gz.js\"></script>\n",
            "\t<script type=\"text/javascript\" src=\"/templates/1657140094/js/libs/jquery.scrollLoading.min.gz.js\"></script>\n",
            "\t<script type=\"text/javascript\" src=\"/templates/1657140094/js/init.packgz.js\" charset=\"utf-8\"></script>\n",
            "\t<script type=\"text/javascript\" src=\"/templates/1657140094/js/listing/init.listing.packgz.js\" charset=\"utf-8\"></script>\n",
            "\t<script type=\"text/javascript\" src=\"/templates/1657140094/js/google_analytics.js\" charset=\"UTF-8\"></script>\n",
            "    <script type=\"text/javascript\" src=\"/templates/1657140094/js/yp.sys.alert.js\" charset=\"utf-8\"></script>\n",
            "    <script type=\"text/javascript\" src=\"/templates/1657140094/js/adsbyyp.js\" charset=\"utf-8\"></script>\n",
            "\t<!-- Start Alexa Certify Javascript -->\n",
            "\t<script type=\"text/javascript\">\n",
            "\t_atrk_opts = { atrk_acct:\"4o3+i1a8Dy00ih\", domain:\"iyp.com.tw\",dynamic: true};\n",
            "\t(function() { var as = document.createElement('script'); as.type = 'text/javascript'; as.async = true; as.src = \"https://d31qbv1cthcecs.cloudfront.net/atrk.js\"; var s = document.getElementsByTagName('script')[0];s.parentNode.insertBefore(as, s); })();\n",
            "\t</script>\n",
            "\t<noscript><img src=\"https://d5nxst8fruw4z.cloudfront.net/atrk.gif?account=4o3+i1a8Dy00ih\" style=\"display:none\" height=\"1\" width=\"1\" alt=\"\" /></noscript>\n",
            "\t<!-- End Alexa Certify Javascript -->\n",
            "</body>\n",
            "</html>\n",
            "\n"
          ]
        }
      ]
    },
    {
      "cell_type": "code",
      "source": [
        "from bs4 import BeautifulSoup\n",
        "\n",
        "html.encoding = \"utf-8\"\n",
        "soup = BeautifulSoup(html.text, \"lxml\")\n",
        "\n",
        "raw_data = soup.find_all(\"a\")"
      ],
      "metadata": {
        "id": "ur58-SBaZfJt"
      },
      "execution_count": 11,
      "outputs": []
    },
    {
      "cell_type": "code",
      "source": [
        "raw_data"
      ],
      "metadata": {
        "colab": {
          "base_uri": "https://localhost:8080/"
        },
        "id": "Q6rCOwkLZuBu",
        "outputId": "e0f7b032-f30f-4ba6-a1ac-a85cfb316e44"
      },
      "execution_count": 12,
      "outputs": [
        {
          "output_type": "execute_result",
          "data": {
            "text/plain": [
              "[<a href=\"/\" title=\"中華黃頁網路電話簿\"><span>中華黃頁網路電話簿</span></a>,\n",
              " <a class=\"\" href=\"/search.php\"><span>關鍵字搜尋</span></a>,\n",
              " <a href=\"#\"><span>電話搜尋</span></a>,\n",
              " <a href=\"#\"><span>統編搜尋</span></a>,\n",
              " <a class=\"\" href=\"/product.php\"><span>產品搜尋</span></a>,\n",
              " <a href=\"#\"><span>地址搜尋</span></a>,\n",
              " <a href=\"#\" onclick=\"HotKeywordGoto('營造','');\">營造</a>,\n",
              " <a href=\"#\" onclick=\"HotKeywordGoto('工業','');\">工業</a>,\n",
              " <a href=\"#\" onclick=\"HotKeywordGoto('麻將專賣店','');\">麻將專賣店</a>,\n",
              " <a href=\"#\" onclick=\"HotKeywordGoto('語文補習班','');\">語文補習班</a>,\n",
              " <a href=\"#\" onclick=\"HotKeywordGoto('自動化機械','');\">自動化機械</a>,\n",
              " <a href=\"#\" onclick=\"HotKeywordGoto('水電','');\">水電</a>,\n",
              " <a href=\"#\" onclick=\"HotKeywordGoto('興','');\">興</a>,\n",
              " <a href=\"#\" onclick=\"HotKeywordGoto('小火鍋','');\">小火鍋</a>,\n",
              " <a href=\"#\" onclick=\"HotKeywordGoto('工商日誌','http://note.iyp.tw/index.html');\">工商日誌</a>,\n",
              " <a href=\"//www.iyp.com.tw\">首頁</a>,\n",
              " <a href=\"/education/\">育才學術</a>,\n",
              " <a href=\"/education/training/\">訓練</a>,\n",
              " <a href=\"/search.php?k=訓練課程\">訓練課程</a>,\n",
              " <a href=\"/search.php?k=潛能開發\">潛能開發</a>,\n",
              " <a class=\"prev\" href=\"/showroom.php?cate_name_eng_lv1=education&amp;cate_name_eng_lv3=training-courses&amp;p=0\">上一頁</a>,\n",
              " <a class=\"\" href=\"/showroom.php?cate_name_eng_lv1=education&amp;cate_name_eng_lv3=training-courses&amp;p=0\">1</a>,\n",
              " <a class=\"\" href=\"/showroom.php?cate_name_eng_lv1=education&amp;cate_name_eng_lv3=training-courses&amp;p=2\">3</a>,\n",
              " <a class=\"\" href=\"/showroom.php?cate_name_eng_lv1=education&amp;cate_name_eng_lv3=training-courses&amp;p=3\">4</a>,\n",
              " <a class=\"\" href=\"/showroom.php?cate_name_eng_lv1=education&amp;cate_name_eng_lv3=training-courses&amp;p=4\">5</a>,\n",
              " <a class=\"\" href=\"/showroom.php?cate_name_eng_lv1=education&amp;cate_name_eng_lv3=training-courses&amp;p=5\">6</a>,\n",
              " <a class=\"\" href=\"/showroom.php?cate_name_eng_lv1=education&amp;cate_name_eng_lv3=training-courses&amp;p=6\">7</a>,\n",
              " <a class=\"\" href=\"/showroom.php?cate_name_eng_lv1=education&amp;cate_name_eng_lv3=training-courses&amp;p=7\">8</a>,\n",
              " <a class=\"\" href=\"/showroom.php?cate_name_eng_lv1=education&amp;cate_name_eng_lv3=training-courses&amp;p=8\">9</a>,\n",
              " <a class=\"\" href=\"/showroom.php?cate_name_eng_lv1=education&amp;cate_name_eng_lv3=training-courses&amp;p=9\">10</a>,\n",
              " <a class=\"next\" href=\"/showroom.php?cate_name_eng_lv1=education&amp;cate_name_eng_lv3=training-courses&amp;p=2\">下一頁</a>,\n",
              " <a href=\"//www.iyp.com.tw/0227073116\" rel=\"noopener\" target=\"_blank\" title=\"財團法人中華民國職業訓練研究發展中心\">財團法人中華民國職業訓練研究發展中心</a>,\n",
              " <a class=\"more-btn\" href=\"//www.iyp.com.tw/0227073116/more-tel/\" rel=\"noopener\" target=\"_blank\">更多電話</a>,\n",
              " <a href=\"//www.iyp.com.tw/0800300995\" rel=\"noopener\" target=\"_blank\" title=\"美好生活國際有限公司\">美好生活國際有限公司</a>,\n",
              " <a href=\"//www.iyp.com.tw/073221487\" rel=\"noopener\" target=\"_blank\" title=\"體育人文創工作室\">體育人文創工作室</a>,\n",
              " <a href=\"//www.iyp.com.tw/055341379\" rel=\"noopener\" target=\"_blank\" title=\"財團法人中國生產力中心中區服務處\">財團法人中國生產力中心中區服務處</a>,\n",
              " <a class=\"more-btn\" href=\"//www.iyp.com.tw/055341379/more-tel/\" rel=\"noopener\" target=\"_blank\">更多電話</a>,\n",
              " <a href=\"//www.iyp.com.tw/0423396735\" rel=\"noopener\" target=\"_blank\" title=\"鉌亞大興業股份有限公司\">鉌亞大興業股份有限公司</a>,\n",
              " <a href=\"//www.iyp.com.tw/0222561300\" rel=\"noopener\" target=\"_blank\" title=\"一級棒國際事業有限公司\">一級棒國際事業有限公司</a>,\n",
              " <a class=\"more-btn\" href=\"//www.iyp.com.tw/0222561300/more-tel/\" rel=\"noopener\" target=\"_blank\">更多電話</a>,\n",
              " <a href=\"//www.iyp.com.tw/052340400\" rel=\"noopener\" target=\"_blank\" title=\"中國勞工安全衛生管理學會附設嘉義職業訓練中心\">中國勞工安全衛生管理學會附設嘉義職業訓練中心</a>,\n",
              " <a href=\"//www.iyp.com.tw/053745846\" rel=\"noopener\" target=\"_blank\" title=\"社團法人中華民國電力技術證照協會附設職業訓練中心\">社團法人中華民國電力技術證照協會附設職業訓練中心</a>,\n",
              " <a class=\"more-btn\" href=\"//www.iyp.com.tw/053745846/more-tel/\" rel=\"noopener\" target=\"_blank\">更多電話</a>,\n",
              " <a href=\"//www.iyp.com.tw/052239222\" rel=\"noopener\" target=\"_blank\" title=\"社團法人台灣多元人力資源發展協會附設職業訓練中心\">社團法人台灣多元人力資源發展協會附設職業訓練中心</a>,\n",
              " <a href=\"//www.iyp.com.tw/052228465\" rel=\"noopener\" target=\"_blank\" title=\"嘉義市私立地球村語文短期補習班\">嘉義市私立地球村語文短期補習班</a>,\n",
              " <a class=\"more-btn\" href=\"//www.iyp.com.tw/052228465/more-tel/\" rel=\"noopener\" target=\"_blank\">更多電話</a>,\n",
              " <a class=\"prev\" href=\"/showroom.php?cate_name_eng_lv1=education&amp;cate_name_eng_lv3=training-courses&amp;p=0\">上一頁</a>,\n",
              " <a class=\"\" href=\"/showroom.php?cate_name_eng_lv1=education&amp;cate_name_eng_lv3=training-courses&amp;p=0\">1</a>,\n",
              " <a class=\"\" href=\"/showroom.php?cate_name_eng_lv1=education&amp;cate_name_eng_lv3=training-courses&amp;p=2\">3</a>,\n",
              " <a class=\"\" href=\"/showroom.php?cate_name_eng_lv1=education&amp;cate_name_eng_lv3=training-courses&amp;p=3\">4</a>,\n",
              " <a class=\"\" href=\"/showroom.php?cate_name_eng_lv1=education&amp;cate_name_eng_lv3=training-courses&amp;p=4\">5</a>,\n",
              " <a class=\"\" href=\"/showroom.php?cate_name_eng_lv1=education&amp;cate_name_eng_lv3=training-courses&amp;p=5\">6</a>,\n",
              " <a class=\"\" href=\"/showroom.php?cate_name_eng_lv1=education&amp;cate_name_eng_lv3=training-courses&amp;p=6\">7</a>,\n",
              " <a class=\"\" href=\"/showroom.php?cate_name_eng_lv1=education&amp;cate_name_eng_lv3=training-courses&amp;p=7\">8</a>,\n",
              " <a class=\"\" href=\"/showroom.php?cate_name_eng_lv1=education&amp;cate_name_eng_lv3=training-courses&amp;p=8\">9</a>,\n",
              " <a class=\"\" href=\"/showroom.php?cate_name_eng_lv1=education&amp;cate_name_eng_lv3=training-courses&amp;p=9\">10</a>,\n",
              " <a class=\"next\" href=\"/showroom.php?cate_name_eng_lv1=education&amp;cate_name_eng_lv3=training-courses&amp;p=2\">下一頁</a>,\n",
              " <a href=\"/showroom.php?cate_name_eng_lv1=education&amp;cate_name_eng_lv3=training-courses&amp;a_id=0\">全區</a>,\n",
              " <a href=\"/showroom.php?cate_name_eng_lv1=education&amp;cate_name_eng_lv3=training-courses&amp;a_id=1\">宜蘭縣</a>,\n",
              " <a href=\"/showroom.php?cate_name_eng_lv1=education&amp;cate_name_eng_lv3=training-courses&amp;a_id=3\">基隆市</a>,\n",
              " <a href=\"/showroom.php?cate_name_eng_lv1=education&amp;cate_name_eng_lv3=training-courses&amp;a_id=4\">新北市</a>,\n",
              " <a href=\"/showroom.php?cate_name_eng_lv1=education&amp;cate_name_eng_lv3=training-courses&amp;a_id=5\">桃園市</a>,\n",
              " <a href=\"/showroom.php?cate_name_eng_lv1=education&amp;cate_name_eng_lv3=training-courses&amp;a_id=6\">台北市</a>,\n",
              " <a href=\"/showroom.php?cate_name_eng_lv1=education&amp;cate_name_eng_lv3=training-courses&amp;a_id=7\">新竹縣</a>,\n",
              " <a href=\"/showroom.php?cate_name_eng_lv1=education&amp;cate_name_eng_lv3=training-courses&amp;a_id=8\">苗栗縣</a>,\n",
              " <a href=\"/showroom.php?cate_name_eng_lv1=education&amp;cate_name_eng_lv3=training-courses&amp;a_id=9\">台中市</a>,\n",
              " <a href=\"/showroom.php?cate_name_eng_lv1=education&amp;cate_name_eng_lv3=training-courses&amp;a_id=11\">彰化縣</a>,\n",
              " <a href=\"/showroom.php?cate_name_eng_lv1=education&amp;cate_name_eng_lv3=training-courses&amp;a_id=12\">南投縣</a>,\n",
              " <a href=\"/showroom.php?cate_name_eng_lv1=education&amp;cate_name_eng_lv3=training-courses&amp;a_id=13\">雲林縣</a>,\n",
              " <a href=\"/showroom.php?cate_name_eng_lv1=education&amp;cate_name_eng_lv3=training-courses&amp;a_id=14\">嘉義縣</a>,\n",
              " <a href=\"/showroom.php?cate_name_eng_lv1=education&amp;cate_name_eng_lv3=training-courses&amp;a_id=15\">台南市</a>,\n",
              " <a href=\"/showroom.php?cate_name_eng_lv1=education&amp;cate_name_eng_lv3=training-courses&amp;a_id=18\">高雄市</a>,\n",
              " <a href=\"/showroom.php?cate_name_eng_lv1=education&amp;cate_name_eng_lv3=training-courses&amp;a_id=21\">屏東縣</a>,\n",
              " <a href=\"/showroom.php?cate_name_eng_lv1=education&amp;cate_name_eng_lv3=training-courses&amp;a_id=2\">花蓮縣</a>,\n",
              " <a href=\"/showroom.php?cate_name_eng_lv1=education&amp;cate_name_eng_lv3=training-courses&amp;a_id=22\">台東縣</a>,\n",
              " <a href=\"/showroom.php?cate_name_eng_lv1=education&amp;cate_name_eng_lv3=training-courses&amp;a_id=20\">金門縣</a>,\n",
              " <a href=\"http://www.denba.com.tw\" rel=\"noopener\" target=\"_blank\" title=\"積順企業有限公司\">積順企業有限公司</a>,\n",
              " <a href=\"http://www.ho-hung.com.tw\" rel=\"noopener\" target=\"_blank\" title=\"禾弘生技有限公司\">禾弘生技有限公司</a>,\n",
              " <a href=\"http://www.xn--kpr292cqnev6bv77a.tw\" rel=\"noopener\" target=\"_blank\" title=\"保健食品牛樟芝\">保健食品牛樟芝</a>,\n",
              " <a href=\"http://www.hsbcpawn.com.tw\" rel=\"noopener\" target=\"_blank\" title=\"匯豐當舖\">匯豐當舖</a>,\n",
              " <a href=\"http://www.0928192096.com.tw\" rel=\"noopener\" target=\"_blank\" title=\"貫廷燈飾行\">貫廷燈飾行</a>,\n",
              " <a href=\"https://www.chyp.com.tw/about-us.html\" title=\"關於我們\">關於我們</a>,\n",
              " <a href=\"https://www.facebook.com/iyptw\" rel=\"noopener\" target=\"_blank\" title=\"加入Super hiPage Facebook粉絲專頁\"><span class=\"ico\"> </span>Facebook粉絲專頁</a>,\n",
              " <a href=\"/sitemap.html\" title=\"網站導覽\">網站導覽</a>,\n",
              " <a href=\"/privacy.html\" title=\"隱私權政策\">隱私權政策</a>,\n",
              " <a href=\"/service.html\" title=\"服務條款\">服務條款</a>,\n",
              " <a href=\"/contact.php\" title=\"聯絡我們\">聯絡我們</a>,\n",
              " <a href=\"https://www.chyp.com.tw/online-media.html\" rel=\"noopener\" target=\"_blank\" title=\"線上媒體\">線上媒體</a>,\n",
              " <a href=\"https://www.chyp.com.tw/outdoor.html\" rel=\"noopener\" target=\"_blank\" title=\"戶外媒體\">戶外媒體</a>,\n",
              " <a href=\"https://www.chyp.com.tw/print-ads.html\" rel=\"noopener\" target=\"_blank\" title=\"平面廣告\">平面廣告</a>,\n",
              " <a href=\"https://note.iyp.tw/\" rel=\"noopener\" target=\"_blank\" title=\"工商日誌\">工商日誌</a>,\n",
              " <a href=\"http://biz.every8d.com/hipage/\" rel=\"noopener\" target=\"_blank\">簡訊平台</a>,\n",
              " <a href=\"https://space.iyp.com.tw/apps/CHYP/chyp_pages.doc\" rel=\"noopener\" target=\"_blank\">黃白頁領用</a>,\n",
              " <a href=\"https://www.hinet.net/\" rel=\"noopener\" target=\"_blank\">HiNet</a>,\n",
              " <a href=\"https://www.cht.com.tw/\" rel=\"noopener\" target=\"_blank\">中華電信</a>,\n",
              " <a href=\"https://www.taiwan-yellowpages.com.tw/\" rel=\"noopener\" target=\"_blank\">英文黃頁(ENG)</a>,\n",
              " <a href=\"https://space.iyp.com.tw/apps/PYP/2013_ask_PYP/PYP_ask.htm\" rel=\"noopener\" style=\"color:#EB0707\" target=\"_blank\">平面刊物索取</a>,\n",
              " <a href=\"mailto:service@chyp.com.tw\">service@chyp.com.tw</a>,\n",
              " <a href=\"mailto:service@chyp.com.tw\">客服信箱</a>,\n",
              " <a href=\"https://www.iyp.com.tw/stores/register/\"><span class=\"ico\"></span>登錄您的店家</a>,\n",
              " <a href=\"/account/Login/\" id=\"login\">登入</a>,\n",
              " <a href=\"/account/Login/\" id=\"register\">註冊</a>,\n",
              " <a class=\"login-btn\" href=\"#\" id=\"signup-btn\">註冊</a>,\n",
              " <a class=\"login-btn\" href=\"#\" id=\"login-btn\">登入</a>,\n",
              " <a class=\"forgot-btn\" href=\"#\" id=\"forgot\">忘記密碼？</a>,\n",
              " <a class=\"cancel-btn\" href=\"#\" id=\"cancel-forgot\" style=\"display:none\">返回登入</a>,\n",
              " <a href=\"https://www.iyp.com.tw/service.html\" rel=\"noopener\" target=\"_blank\">中華黃頁服務條款</a>,\n",
              " <a href=\"#\" id=\"op-facebook\">\n",
              " <span class=\"ico facebook-ico\"></span>\n",
              " <span>Facebook</span>\n",
              " </a>,\n",
              " <a href=\"#\" id=\"op-google\">\n",
              " <span class=\"ico google-ico\"></span>\n",
              " <span>Google</span>\n",
              " </a>,\n",
              " <a class=\"0\" href=\"#\">全區</a>,\n",
              " <a class=\"1\" href=\"#\">宜蘭縣</a>,\n",
              " <a class=\"3\" href=\"#\">基隆市</a>,\n",
              " <a class=\"4\" href=\"#\">新北市</a>,\n",
              " <a class=\"6\" href=\"#\">台北市</a>,\n",
              " <a class=\"5\" href=\"#\">桃園市</a>,\n",
              " <a class=\"7\" href=\"#\">新竹縣市</a>,\n",
              " <a class=\"8\" href=\"#\">苗栗縣</a>,\n",
              " <a class=\"9\" href=\"#\">台中市</a>,\n",
              " <a class=\"11\" href=\"#\">彰化縣</a>,\n",
              " <a class=\"12\" href=\"#\">南投縣</a>,\n",
              " <a class=\"13\" href=\"#\">雲林縣</a>,\n",
              " <a class=\"14\" href=\"#\">嘉義縣市</a>,\n",
              " <a class=\"15\" href=\"#\">台南市</a>,\n",
              " <a class=\"18\" href=\"#\">高雄市</a>,\n",
              " <a class=\"21\" href=\"#\">屏東縣</a>,\n",
              " <a class=\"2\" href=\"#\">花蓮縣</a>,\n",
              " <a class=\"22\" href=\"#\">台東縣</a>,\n",
              " <a class=\"17\" href=\"#\">澎湖縣</a>,\n",
              " <a class=\"23\" href=\"#\">馬祖</a>,\n",
              " <a class=\"20\" href=\"#\">金門縣</a>]"
            ]
          },
          "metadata": {},
          "execution_count": 12
        }
      ]
    },
    {
      "cell_type": "code",
      "source": [
        ""
      ],
      "metadata": {
        "id": "dqMg2IADZuKS"
      },
      "execution_count": null,
      "outputs": []
    },
    {
      "cell_type": "markdown",
      "source": [
        "### 爬蟲到資料清理"
      ],
      "metadata": {
        "id": "Y5dwnjxaZbVF"
      }
    },
    {
      "cell_type": "code",
      "source": [
        "from bs4 import BeautifulSoup\n",
        "\n",
        "html.encoding = \"utf-8\"\n",
        "soup = BeautifulSoup(html.text, \"lxml\")\n",
        "\n",
        "raw_data = soup.find_all(\"ol\", attrs={\"class\":[\"recommend\", \"diamond\", \"general\"]})"
      ],
      "metadata": {
        "id": "9oWEnnaWVrer"
      },
      "execution_count": null,
      "outputs": []
    },
    {
      "cell_type": "code",
      "source": [
        "def more_btn(more_btn_html):\n",
        "    if(more_btn_html != None):\n",
        "        return more_btn_html[\"href\"]\n",
        "    else:\n",
        "        return None\n",
        "\n",
        "def more_label(more_label_html):\n",
        "    if(more_label_html != None):\n",
        "        return more_label_html.text\n",
        "    else:\n",
        "        return None"
      ],
      "metadata": {
        "id": "-4hq-CGOpTsk"
      },
      "execution_count": null,
      "outputs": []
    },
    {
      "cell_type": "code",
      "source": [
        "import pandas as pd\n",
        "\n",
        "data = []\n",
        "\n",
        "for i in range(len(raw_data)):\n",
        "    if(\"general\" in raw_data[i][\"class\"]):\n",
        "        level = \"general\"\n",
        "    elif(\"recommend\" in raw_data[i][\"class\"]):\n",
        "        level = \"recommend\"\n",
        "    elif(\"diamond\" in raw_data[i][\"class\"]):\n",
        "        level = \"diamond\"\n",
        "\n",
        "    shops = raw_data[i].find_all(\"li\", attrs={\"id\":True})\n",
        "\n",
        "    for j in range(len(shops)):\n",
        "        row = [level\n",
        "            , shops[j][\"id\"]\n",
        "            , shops[j].find(\"span\", \"list-id\").text\n",
        "            , shops[j].find(\"h3\").find(\"a\")[\"href\"]\n",
        "            , shops[j].find(\"img\")[\"src\"]\n",
        "            , more_label(shops[j].find(\"em\", \"label\"))\n",
        "            , more_btn(shops[j].find(\"a\", \"more-btn\"))\n",
        "            , shops[j].find(\"h3\").find(\"a\")[\"title\"]\n",
        "            , shops[j].find(\"p\").text.replace(\"\\n\", \"\")\n",
        "            , shops[j].find(\"span\", \"view-map\")[\"go-map\"]]\n",
        "\n",
        "        data.append(row)\n",
        "\n",
        "df = pd.DataFrame(pd.DataFrame({\"raw\":data})[\"raw\"].to_list(), columns=[\"level\", \"id\", \"list_id\", \"href\", \"src\", \"label\", \"more-btn\", \"title\", \"description\", \"address\"])"
      ],
      "metadata": {
        "id": "HO4Z_SDfW8Ce"
      },
      "execution_count": null,
      "outputs": []
    },
    {
      "cell_type": "code",
      "source": [
        "df.head()"
      ],
      "metadata": {
        "id": "Fsj7OdPpXxKt",
        "colab": {
          "base_uri": "https://localhost:8080/",
          "height": 424
        },
        "outputId": "4772eab7-e6ec-4e5b-bf21-cacea9e6e0e4"
      },
      "execution_count": null,
      "outputs": [
        {
          "output_type": "execute_result",
          "data": {
            "text/plain": [
              "     level         id list_id                         href  \\\n",
              "0  general  1_1621184      29  //www.iyp.com.tw/0227073116   \n",
              "1  general  1_1860094      30  //www.iyp.com.tw/0800300995   \n",
              "2  general  1_1797883      31   //www.iyp.com.tw/073221487   \n",
              "3  general    1_91180      32   //www.iyp.com.tw/055341379   \n",
              "4  general  1_1708156      33  //www.iyp.com.tw/0423396735   \n",
              "\n",
              "                             src  label  \\\n",
              "0  /templates/images/loading.gif          \n",
              "1  /templates/images/loading.gif  免付費電話   \n",
              "2  /templates/images/loading.gif          \n",
              "3  /templates/images/loading.gif    代表號   \n",
              "4  /templates/images/loading.gif          \n",
              "\n",
              "                                more-btn               title description  \\\n",
              "0  //www.iyp.com.tw/0227073116/more-tel/  財團法人中華民國職業訓練研究發展中心               \n",
              "1                                   None          美好生活國際有限公司               \n",
              "2                                   None            體育人文創工作室               \n",
              "3   //www.iyp.com.tw/055341379/more-tel/    財團法人中國生產力中心中區服務處               \n",
              "4                                   None         鉌亞大興業股份有限公司               \n",
              "\n",
              "                                             address  \n",
              "0  https://www.google.com.tw/maps/search/台北市大安區信義...  \n",
              "1             https://www.google.com.tw/maps/search/  \n",
              "2  https://www.google.com.tw/maps/search/高雄市楠梓區大學...  \n",
              "3  https://www.google.com.tw/maps/search/雲林縣斗六市雲林...  \n",
              "4  https://www.google.com.tw/maps/search/台中市中區吉祥街...  "
            ],
            "text/html": [
              "\n",
              "  <div id=\"df-8e622a89-a3e6-4a92-8140-52b1300902e0\">\n",
              "    <div class=\"colab-df-container\">\n",
              "      <div>\n",
              "<style scoped>\n",
              "    .dataframe tbody tr th:only-of-type {\n",
              "        vertical-align: middle;\n",
              "    }\n",
              "\n",
              "    .dataframe tbody tr th {\n",
              "        vertical-align: top;\n",
              "    }\n",
              "\n",
              "    .dataframe thead th {\n",
              "        text-align: right;\n",
              "    }\n",
              "</style>\n",
              "<table border=\"1\" class=\"dataframe\">\n",
              "  <thead>\n",
              "    <tr style=\"text-align: right;\">\n",
              "      <th></th>\n",
              "      <th>level</th>\n",
              "      <th>id</th>\n",
              "      <th>list_id</th>\n",
              "      <th>href</th>\n",
              "      <th>src</th>\n",
              "      <th>label</th>\n",
              "      <th>more-btn</th>\n",
              "      <th>title</th>\n",
              "      <th>description</th>\n",
              "      <th>address</th>\n",
              "    </tr>\n",
              "  </thead>\n",
              "  <tbody>\n",
              "    <tr>\n",
              "      <th>0</th>\n",
              "      <td>general</td>\n",
              "      <td>1_1621184</td>\n",
              "      <td>29</td>\n",
              "      <td>//www.iyp.com.tw/0227073116</td>\n",
              "      <td>/templates/images/loading.gif</td>\n",
              "      <td></td>\n",
              "      <td>//www.iyp.com.tw/0227073116/more-tel/</td>\n",
              "      <td>財團法人中華民國職業訓練研究發展中心</td>\n",
              "      <td></td>\n",
              "      <td>https://www.google.com.tw/maps/search/台北市大安區信義...</td>\n",
              "    </tr>\n",
              "    <tr>\n",
              "      <th>1</th>\n",
              "      <td>general</td>\n",
              "      <td>1_1860094</td>\n",
              "      <td>30</td>\n",
              "      <td>//www.iyp.com.tw/0800300995</td>\n",
              "      <td>/templates/images/loading.gif</td>\n",
              "      <td>免付費電話</td>\n",
              "      <td>None</td>\n",
              "      <td>美好生活國際有限公司</td>\n",
              "      <td></td>\n",
              "      <td>https://www.google.com.tw/maps/search/</td>\n",
              "    </tr>\n",
              "    <tr>\n",
              "      <th>2</th>\n",
              "      <td>general</td>\n",
              "      <td>1_1797883</td>\n",
              "      <td>31</td>\n",
              "      <td>//www.iyp.com.tw/073221487</td>\n",
              "      <td>/templates/images/loading.gif</td>\n",
              "      <td></td>\n",
              "      <td>None</td>\n",
              "      <td>體育人文創工作室</td>\n",
              "      <td></td>\n",
              "      <td>https://www.google.com.tw/maps/search/高雄市楠梓區大學...</td>\n",
              "    </tr>\n",
              "    <tr>\n",
              "      <th>3</th>\n",
              "      <td>general</td>\n",
              "      <td>1_91180</td>\n",
              "      <td>32</td>\n",
              "      <td>//www.iyp.com.tw/055341379</td>\n",
              "      <td>/templates/images/loading.gif</td>\n",
              "      <td>代表號</td>\n",
              "      <td>//www.iyp.com.tw/055341379/more-tel/</td>\n",
              "      <td>財團法人中國生產力中心中區服務處</td>\n",
              "      <td></td>\n",
              "      <td>https://www.google.com.tw/maps/search/雲林縣斗六市雲林...</td>\n",
              "    </tr>\n",
              "    <tr>\n",
              "      <th>4</th>\n",
              "      <td>general</td>\n",
              "      <td>1_1708156</td>\n",
              "      <td>33</td>\n",
              "      <td>//www.iyp.com.tw/0423396735</td>\n",
              "      <td>/templates/images/loading.gif</td>\n",
              "      <td></td>\n",
              "      <td>None</td>\n",
              "      <td>鉌亞大興業股份有限公司</td>\n",
              "      <td></td>\n",
              "      <td>https://www.google.com.tw/maps/search/台中市中區吉祥街...</td>\n",
              "    </tr>\n",
              "  </tbody>\n",
              "</table>\n",
              "</div>\n",
              "      <button class=\"colab-df-convert\" onclick=\"convertToInteractive('df-8e622a89-a3e6-4a92-8140-52b1300902e0')\"\n",
              "              title=\"Convert this dataframe to an interactive table.\"\n",
              "              style=\"display:none;\">\n",
              "        \n",
              "  <svg xmlns=\"http://www.w3.org/2000/svg\" height=\"24px\"viewBox=\"0 0 24 24\"\n",
              "       width=\"24px\">\n",
              "    <path d=\"M0 0h24v24H0V0z\" fill=\"none\"/>\n",
              "    <path d=\"M18.56 5.44l.94 2.06.94-2.06 2.06-.94-2.06-.94-.94-2.06-.94 2.06-2.06.94zm-11 1L8.5 8.5l.94-2.06 2.06-.94-2.06-.94L8.5 2.5l-.94 2.06-2.06.94zm10 10l.94 2.06.94-2.06 2.06-.94-2.06-.94-.94-2.06-.94 2.06-2.06.94z\"/><path d=\"M17.41 7.96l-1.37-1.37c-.4-.4-.92-.59-1.43-.59-.52 0-1.04.2-1.43.59L10.3 9.45l-7.72 7.72c-.78.78-.78 2.05 0 2.83L4 21.41c.39.39.9.59 1.41.59.51 0 1.02-.2 1.41-.59l7.78-7.78 2.81-2.81c.8-.78.8-2.07 0-2.86zM5.41 20L4 18.59l7.72-7.72 1.47 1.35L5.41 20z\"/>\n",
              "  </svg>\n",
              "      </button>\n",
              "      \n",
              "  <style>\n",
              "    .colab-df-container {\n",
              "      display:flex;\n",
              "      flex-wrap:wrap;\n",
              "      gap: 12px;\n",
              "    }\n",
              "\n",
              "    .colab-df-convert {\n",
              "      background-color: #E8F0FE;\n",
              "      border: none;\n",
              "      border-radius: 50%;\n",
              "      cursor: pointer;\n",
              "      display: none;\n",
              "      fill: #1967D2;\n",
              "      height: 32px;\n",
              "      padding: 0 0 0 0;\n",
              "      width: 32px;\n",
              "    }\n",
              "\n",
              "    .colab-df-convert:hover {\n",
              "      background-color: #E2EBFA;\n",
              "      box-shadow: 0px 1px 2px rgba(60, 64, 67, 0.3), 0px 1px 3px 1px rgba(60, 64, 67, 0.15);\n",
              "      fill: #174EA6;\n",
              "    }\n",
              "\n",
              "    [theme=dark] .colab-df-convert {\n",
              "      background-color: #3B4455;\n",
              "      fill: #D2E3FC;\n",
              "    }\n",
              "\n",
              "    [theme=dark] .colab-df-convert:hover {\n",
              "      background-color: #434B5C;\n",
              "      box-shadow: 0px 1px 3px 1px rgba(0, 0, 0, 0.15);\n",
              "      filter: drop-shadow(0px 1px 2px rgba(0, 0, 0, 0.3));\n",
              "      fill: #FFFFFF;\n",
              "    }\n",
              "  </style>\n",
              "\n",
              "      <script>\n",
              "        const buttonEl =\n",
              "          document.querySelector('#df-8e622a89-a3e6-4a92-8140-52b1300902e0 button.colab-df-convert');\n",
              "        buttonEl.style.display =\n",
              "          google.colab.kernel.accessAllowed ? 'block' : 'none';\n",
              "\n",
              "        async function convertToInteractive(key) {\n",
              "          const element = document.querySelector('#df-8e622a89-a3e6-4a92-8140-52b1300902e0');\n",
              "          const dataTable =\n",
              "            await google.colab.kernel.invokeFunction('convertToInteractive',\n",
              "                                                     [key], {});\n",
              "          if (!dataTable) return;\n",
              "\n",
              "          const docLinkHtml = 'Like what you see? Visit the ' +\n",
              "            '<a target=\"_blank\" href=https://colab.research.google.com/notebooks/data_table.ipynb>data table notebook</a>'\n",
              "            + ' to learn more about interactive tables.';\n",
              "          element.innerHTML = '';\n",
              "          dataTable['output_type'] = 'display_data';\n",
              "          await google.colab.output.renderOutput(dataTable, element);\n",
              "          const docLink = document.createElement('div');\n",
              "          docLink.innerHTML = docLinkHtml;\n",
              "          element.appendChild(docLink);\n",
              "        }\n",
              "      </script>\n",
              "    </div>\n",
              "  </div>\n",
              "  "
            ]
          },
          "metadata": {},
          "execution_count": 11
        }
      ]
    },
    {
      "cell_type": "markdown",
      "source": [
        "--------\n",
        "### 資料分析"
      ],
      "metadata": {
        "id": "z2GImYtAGZGH"
      }
    },
    {
      "cell_type": "code",
      "source": [
        "import pandas as pd\n",
        "\n",
        "df = pd.read_excel(\"data.xlsx\", sheet_name=\"titanic\")\n",
        "df.head()"
      ],
      "metadata": {
        "id": "rYm5qZSgo-ij",
        "colab": {
          "base_uri": "https://localhost:8080/",
          "height": 285
        },
        "outputId": "f14037f3-2541-4121-a84b-cf2dd2b25474"
      },
      "execution_count": 15,
      "outputs": [
        {
          "output_type": "execute_result",
          "data": {
            "text/plain": [
              "   PassengerId  Survived  Pclass  \\\n",
              "0            1         0       3   \n",
              "1            2         1       1   \n",
              "2            3         1       3   \n",
              "3            4         1       1   \n",
              "4            5         0       3   \n",
              "\n",
              "                                                Name     Sex   Age  SibSp  \\\n",
              "0                            Braund, Mr. Owen Harris    male  22.0      1   \n",
              "1  Cumings, Mrs. John Bradley (Florence Briggs Th...  female  38.0      1   \n",
              "2                             Heikkinen, Miss. Laina  female  26.0      0   \n",
              "3       Futrelle, Mrs. Jacques Heath (Lily May Peel)  female  35.0      1   \n",
              "4                           Allen, Mr. William Henry    male  35.0      0   \n",
              "\n",
              "   Parch            Ticket     Fare Cabin Embarked  \n",
              "0      0         A/5 21171   7.2500   NaN        S  \n",
              "1      0          PC 17599  71.2833   C85        C  \n",
              "2      0  STON/O2. 3101282   7.9250   NaN        S  \n",
              "3      0            113803  53.1000  C123        S  \n",
              "4      0            373450   8.0500   NaN        S  "
            ],
            "text/html": [
              "\n",
              "  <div id=\"df-4b528b45-d93a-4c8c-9816-ccc7af8aa651\">\n",
              "    <div class=\"colab-df-container\">\n",
              "      <div>\n",
              "<style scoped>\n",
              "    .dataframe tbody tr th:only-of-type {\n",
              "        vertical-align: middle;\n",
              "    }\n",
              "\n",
              "    .dataframe tbody tr th {\n",
              "        vertical-align: top;\n",
              "    }\n",
              "\n",
              "    .dataframe thead th {\n",
              "        text-align: right;\n",
              "    }\n",
              "</style>\n",
              "<table border=\"1\" class=\"dataframe\">\n",
              "  <thead>\n",
              "    <tr style=\"text-align: right;\">\n",
              "      <th></th>\n",
              "      <th>PassengerId</th>\n",
              "      <th>Survived</th>\n",
              "      <th>Pclass</th>\n",
              "      <th>Name</th>\n",
              "      <th>Sex</th>\n",
              "      <th>Age</th>\n",
              "      <th>SibSp</th>\n",
              "      <th>Parch</th>\n",
              "      <th>Ticket</th>\n",
              "      <th>Fare</th>\n",
              "      <th>Cabin</th>\n",
              "      <th>Embarked</th>\n",
              "    </tr>\n",
              "  </thead>\n",
              "  <tbody>\n",
              "    <tr>\n",
              "      <th>0</th>\n",
              "      <td>1</td>\n",
              "      <td>0</td>\n",
              "      <td>3</td>\n",
              "      <td>Braund, Mr. Owen Harris</td>\n",
              "      <td>male</td>\n",
              "      <td>22.0</td>\n",
              "      <td>1</td>\n",
              "      <td>0</td>\n",
              "      <td>A/5 21171</td>\n",
              "      <td>7.2500</td>\n",
              "      <td>NaN</td>\n",
              "      <td>S</td>\n",
              "    </tr>\n",
              "    <tr>\n",
              "      <th>1</th>\n",
              "      <td>2</td>\n",
              "      <td>1</td>\n",
              "      <td>1</td>\n",
              "      <td>Cumings, Mrs. John Bradley (Florence Briggs Th...</td>\n",
              "      <td>female</td>\n",
              "      <td>38.0</td>\n",
              "      <td>1</td>\n",
              "      <td>0</td>\n",
              "      <td>PC 17599</td>\n",
              "      <td>71.2833</td>\n",
              "      <td>C85</td>\n",
              "      <td>C</td>\n",
              "    </tr>\n",
              "    <tr>\n",
              "      <th>2</th>\n",
              "      <td>3</td>\n",
              "      <td>1</td>\n",
              "      <td>3</td>\n",
              "      <td>Heikkinen, Miss. Laina</td>\n",
              "      <td>female</td>\n",
              "      <td>26.0</td>\n",
              "      <td>0</td>\n",
              "      <td>0</td>\n",
              "      <td>STON/O2. 3101282</td>\n",
              "      <td>7.9250</td>\n",
              "      <td>NaN</td>\n",
              "      <td>S</td>\n",
              "    </tr>\n",
              "    <tr>\n",
              "      <th>3</th>\n",
              "      <td>4</td>\n",
              "      <td>1</td>\n",
              "      <td>1</td>\n",
              "      <td>Futrelle, Mrs. Jacques Heath (Lily May Peel)</td>\n",
              "      <td>female</td>\n",
              "      <td>35.0</td>\n",
              "      <td>1</td>\n",
              "      <td>0</td>\n",
              "      <td>113803</td>\n",
              "      <td>53.1000</td>\n",
              "      <td>C123</td>\n",
              "      <td>S</td>\n",
              "    </tr>\n",
              "    <tr>\n",
              "      <th>4</th>\n",
              "      <td>5</td>\n",
              "      <td>0</td>\n",
              "      <td>3</td>\n",
              "      <td>Allen, Mr. William Henry</td>\n",
              "      <td>male</td>\n",
              "      <td>35.0</td>\n",
              "      <td>0</td>\n",
              "      <td>0</td>\n",
              "      <td>373450</td>\n",
              "      <td>8.0500</td>\n",
              "      <td>NaN</td>\n",
              "      <td>S</td>\n",
              "    </tr>\n",
              "  </tbody>\n",
              "</table>\n",
              "</div>\n",
              "      <button class=\"colab-df-convert\" onclick=\"convertToInteractive('df-4b528b45-d93a-4c8c-9816-ccc7af8aa651')\"\n",
              "              title=\"Convert this dataframe to an interactive table.\"\n",
              "              style=\"display:none;\">\n",
              "        \n",
              "  <svg xmlns=\"http://www.w3.org/2000/svg\" height=\"24px\"viewBox=\"0 0 24 24\"\n",
              "       width=\"24px\">\n",
              "    <path d=\"M0 0h24v24H0V0z\" fill=\"none\"/>\n",
              "    <path d=\"M18.56 5.44l.94 2.06.94-2.06 2.06-.94-2.06-.94-.94-2.06-.94 2.06-2.06.94zm-11 1L8.5 8.5l.94-2.06 2.06-.94-2.06-.94L8.5 2.5l-.94 2.06-2.06.94zm10 10l.94 2.06.94-2.06 2.06-.94-2.06-.94-.94-2.06-.94 2.06-2.06.94z\"/><path d=\"M17.41 7.96l-1.37-1.37c-.4-.4-.92-.59-1.43-.59-.52 0-1.04.2-1.43.59L10.3 9.45l-7.72 7.72c-.78.78-.78 2.05 0 2.83L4 21.41c.39.39.9.59 1.41.59.51 0 1.02-.2 1.41-.59l7.78-7.78 2.81-2.81c.8-.78.8-2.07 0-2.86zM5.41 20L4 18.59l7.72-7.72 1.47 1.35L5.41 20z\"/>\n",
              "  </svg>\n",
              "      </button>\n",
              "      \n",
              "  <style>\n",
              "    .colab-df-container {\n",
              "      display:flex;\n",
              "      flex-wrap:wrap;\n",
              "      gap: 12px;\n",
              "    }\n",
              "\n",
              "    .colab-df-convert {\n",
              "      background-color: #E8F0FE;\n",
              "      border: none;\n",
              "      border-radius: 50%;\n",
              "      cursor: pointer;\n",
              "      display: none;\n",
              "      fill: #1967D2;\n",
              "      height: 32px;\n",
              "      padding: 0 0 0 0;\n",
              "      width: 32px;\n",
              "    }\n",
              "\n",
              "    .colab-df-convert:hover {\n",
              "      background-color: #E2EBFA;\n",
              "      box-shadow: 0px 1px 2px rgba(60, 64, 67, 0.3), 0px 1px 3px 1px rgba(60, 64, 67, 0.15);\n",
              "      fill: #174EA6;\n",
              "    }\n",
              "\n",
              "    [theme=dark] .colab-df-convert {\n",
              "      background-color: #3B4455;\n",
              "      fill: #D2E3FC;\n",
              "    }\n",
              "\n",
              "    [theme=dark] .colab-df-convert:hover {\n",
              "      background-color: #434B5C;\n",
              "      box-shadow: 0px 1px 3px 1px rgba(0, 0, 0, 0.15);\n",
              "      filter: drop-shadow(0px 1px 2px rgba(0, 0, 0, 0.3));\n",
              "      fill: #FFFFFF;\n",
              "    }\n",
              "  </style>\n",
              "\n",
              "      <script>\n",
              "        const buttonEl =\n",
              "          document.querySelector('#df-4b528b45-d93a-4c8c-9816-ccc7af8aa651 button.colab-df-convert');\n",
              "        buttonEl.style.display =\n",
              "          google.colab.kernel.accessAllowed ? 'block' : 'none';\n",
              "\n",
              "        async function convertToInteractive(key) {\n",
              "          const element = document.querySelector('#df-4b528b45-d93a-4c8c-9816-ccc7af8aa651');\n",
              "          const dataTable =\n",
              "            await google.colab.kernel.invokeFunction('convertToInteractive',\n",
              "                                                     [key], {});\n",
              "          if (!dataTable) return;\n",
              "\n",
              "          const docLinkHtml = 'Like what you see? Visit the ' +\n",
              "            '<a target=\"_blank\" href=https://colab.research.google.com/notebooks/data_table.ipynb>data table notebook</a>'\n",
              "            + ' to learn more about interactive tables.';\n",
              "          element.innerHTML = '';\n",
              "          dataTable['output_type'] = 'display_data';\n",
              "          await google.colab.output.renderOutput(dataTable, element);\n",
              "          const docLink = document.createElement('div');\n",
              "          docLink.innerHTML = docLinkHtml;\n",
              "          element.appendChild(docLink);\n",
              "        }\n",
              "      </script>\n",
              "    </div>\n",
              "  </div>\n",
              "  "
            ]
          },
          "metadata": {},
          "execution_count": 15
        }
      ]
    },
    {
      "cell_type": "code",
      "source": [
        "df.describe()"
      ],
      "metadata": {
        "colab": {
          "base_uri": "https://localhost:8080/",
          "height": 300
        },
        "id": "cpSscqhoGgSE",
        "outputId": "e0fb9956-d851-4c37-8113-0a05a816898a"
      },
      "execution_count": 16,
      "outputs": [
        {
          "output_type": "execute_result",
          "data": {
            "text/plain": [
              "       PassengerId    Survived      Pclass         Age       SibSp  \\\n",
              "count   891.000000  891.000000  891.000000  714.000000  891.000000   \n",
              "mean    446.000000    0.383838    2.308642   29.699118    0.523008   \n",
              "std     257.353842    0.486592    0.836071   14.526497    1.102743   \n",
              "min       1.000000    0.000000    1.000000    0.420000    0.000000   \n",
              "25%     223.500000    0.000000    2.000000   20.125000    0.000000   \n",
              "50%     446.000000    0.000000    3.000000   28.000000    0.000000   \n",
              "75%     668.500000    1.000000    3.000000   38.000000    1.000000   \n",
              "max     891.000000    1.000000    3.000000   80.000000    8.000000   \n",
              "\n",
              "            Parch        Fare  \n",
              "count  891.000000  891.000000  \n",
              "mean     0.381594   32.204208  \n",
              "std      0.806057   49.693429  \n",
              "min      0.000000    0.000000  \n",
              "25%      0.000000    7.910400  \n",
              "50%      0.000000   14.454200  \n",
              "75%      0.000000   31.000000  \n",
              "max      6.000000  512.329200  "
            ],
            "text/html": [
              "\n",
              "  <div id=\"df-5040e1da-a69e-4a29-9519-3514e49a1130\">\n",
              "    <div class=\"colab-df-container\">\n",
              "      <div>\n",
              "<style scoped>\n",
              "    .dataframe tbody tr th:only-of-type {\n",
              "        vertical-align: middle;\n",
              "    }\n",
              "\n",
              "    .dataframe tbody tr th {\n",
              "        vertical-align: top;\n",
              "    }\n",
              "\n",
              "    .dataframe thead th {\n",
              "        text-align: right;\n",
              "    }\n",
              "</style>\n",
              "<table border=\"1\" class=\"dataframe\">\n",
              "  <thead>\n",
              "    <tr style=\"text-align: right;\">\n",
              "      <th></th>\n",
              "      <th>PassengerId</th>\n",
              "      <th>Survived</th>\n",
              "      <th>Pclass</th>\n",
              "      <th>Age</th>\n",
              "      <th>SibSp</th>\n",
              "      <th>Parch</th>\n",
              "      <th>Fare</th>\n",
              "    </tr>\n",
              "  </thead>\n",
              "  <tbody>\n",
              "    <tr>\n",
              "      <th>count</th>\n",
              "      <td>891.000000</td>\n",
              "      <td>891.000000</td>\n",
              "      <td>891.000000</td>\n",
              "      <td>714.000000</td>\n",
              "      <td>891.000000</td>\n",
              "      <td>891.000000</td>\n",
              "      <td>891.000000</td>\n",
              "    </tr>\n",
              "    <tr>\n",
              "      <th>mean</th>\n",
              "      <td>446.000000</td>\n",
              "      <td>0.383838</td>\n",
              "      <td>2.308642</td>\n",
              "      <td>29.699118</td>\n",
              "      <td>0.523008</td>\n",
              "      <td>0.381594</td>\n",
              "      <td>32.204208</td>\n",
              "    </tr>\n",
              "    <tr>\n",
              "      <th>std</th>\n",
              "      <td>257.353842</td>\n",
              "      <td>0.486592</td>\n",
              "      <td>0.836071</td>\n",
              "      <td>14.526497</td>\n",
              "      <td>1.102743</td>\n",
              "      <td>0.806057</td>\n",
              "      <td>49.693429</td>\n",
              "    </tr>\n",
              "    <tr>\n",
              "      <th>min</th>\n",
              "      <td>1.000000</td>\n",
              "      <td>0.000000</td>\n",
              "      <td>1.000000</td>\n",
              "      <td>0.420000</td>\n",
              "      <td>0.000000</td>\n",
              "      <td>0.000000</td>\n",
              "      <td>0.000000</td>\n",
              "    </tr>\n",
              "    <tr>\n",
              "      <th>25%</th>\n",
              "      <td>223.500000</td>\n",
              "      <td>0.000000</td>\n",
              "      <td>2.000000</td>\n",
              "      <td>20.125000</td>\n",
              "      <td>0.000000</td>\n",
              "      <td>0.000000</td>\n",
              "      <td>7.910400</td>\n",
              "    </tr>\n",
              "    <tr>\n",
              "      <th>50%</th>\n",
              "      <td>446.000000</td>\n",
              "      <td>0.000000</td>\n",
              "      <td>3.000000</td>\n",
              "      <td>28.000000</td>\n",
              "      <td>0.000000</td>\n",
              "      <td>0.000000</td>\n",
              "      <td>14.454200</td>\n",
              "    </tr>\n",
              "    <tr>\n",
              "      <th>75%</th>\n",
              "      <td>668.500000</td>\n",
              "      <td>1.000000</td>\n",
              "      <td>3.000000</td>\n",
              "      <td>38.000000</td>\n",
              "      <td>1.000000</td>\n",
              "      <td>0.000000</td>\n",
              "      <td>31.000000</td>\n",
              "    </tr>\n",
              "    <tr>\n",
              "      <th>max</th>\n",
              "      <td>891.000000</td>\n",
              "      <td>1.000000</td>\n",
              "      <td>3.000000</td>\n",
              "      <td>80.000000</td>\n",
              "      <td>8.000000</td>\n",
              "      <td>6.000000</td>\n",
              "      <td>512.329200</td>\n",
              "    </tr>\n",
              "  </tbody>\n",
              "</table>\n",
              "</div>\n",
              "      <button class=\"colab-df-convert\" onclick=\"convertToInteractive('df-5040e1da-a69e-4a29-9519-3514e49a1130')\"\n",
              "              title=\"Convert this dataframe to an interactive table.\"\n",
              "              style=\"display:none;\">\n",
              "        \n",
              "  <svg xmlns=\"http://www.w3.org/2000/svg\" height=\"24px\"viewBox=\"0 0 24 24\"\n",
              "       width=\"24px\">\n",
              "    <path d=\"M0 0h24v24H0V0z\" fill=\"none\"/>\n",
              "    <path d=\"M18.56 5.44l.94 2.06.94-2.06 2.06-.94-2.06-.94-.94-2.06-.94 2.06-2.06.94zm-11 1L8.5 8.5l.94-2.06 2.06-.94-2.06-.94L8.5 2.5l-.94 2.06-2.06.94zm10 10l.94 2.06.94-2.06 2.06-.94-2.06-.94-.94-2.06-.94 2.06-2.06.94z\"/><path d=\"M17.41 7.96l-1.37-1.37c-.4-.4-.92-.59-1.43-.59-.52 0-1.04.2-1.43.59L10.3 9.45l-7.72 7.72c-.78.78-.78 2.05 0 2.83L4 21.41c.39.39.9.59 1.41.59.51 0 1.02-.2 1.41-.59l7.78-7.78 2.81-2.81c.8-.78.8-2.07 0-2.86zM5.41 20L4 18.59l7.72-7.72 1.47 1.35L5.41 20z\"/>\n",
              "  </svg>\n",
              "      </button>\n",
              "      \n",
              "  <style>\n",
              "    .colab-df-container {\n",
              "      display:flex;\n",
              "      flex-wrap:wrap;\n",
              "      gap: 12px;\n",
              "    }\n",
              "\n",
              "    .colab-df-convert {\n",
              "      background-color: #E8F0FE;\n",
              "      border: none;\n",
              "      border-radius: 50%;\n",
              "      cursor: pointer;\n",
              "      display: none;\n",
              "      fill: #1967D2;\n",
              "      height: 32px;\n",
              "      padding: 0 0 0 0;\n",
              "      width: 32px;\n",
              "    }\n",
              "\n",
              "    .colab-df-convert:hover {\n",
              "      background-color: #E2EBFA;\n",
              "      box-shadow: 0px 1px 2px rgba(60, 64, 67, 0.3), 0px 1px 3px 1px rgba(60, 64, 67, 0.15);\n",
              "      fill: #174EA6;\n",
              "    }\n",
              "\n",
              "    [theme=dark] .colab-df-convert {\n",
              "      background-color: #3B4455;\n",
              "      fill: #D2E3FC;\n",
              "    }\n",
              "\n",
              "    [theme=dark] .colab-df-convert:hover {\n",
              "      background-color: #434B5C;\n",
              "      box-shadow: 0px 1px 3px 1px rgba(0, 0, 0, 0.15);\n",
              "      filter: drop-shadow(0px 1px 2px rgba(0, 0, 0, 0.3));\n",
              "      fill: #FFFFFF;\n",
              "    }\n",
              "  </style>\n",
              "\n",
              "      <script>\n",
              "        const buttonEl =\n",
              "          document.querySelector('#df-5040e1da-a69e-4a29-9519-3514e49a1130 button.colab-df-convert');\n",
              "        buttonEl.style.display =\n",
              "          google.colab.kernel.accessAllowed ? 'block' : 'none';\n",
              "\n",
              "        async function convertToInteractive(key) {\n",
              "          const element = document.querySelector('#df-5040e1da-a69e-4a29-9519-3514e49a1130');\n",
              "          const dataTable =\n",
              "            await google.colab.kernel.invokeFunction('convertToInteractive',\n",
              "                                                     [key], {});\n",
              "          if (!dataTable) return;\n",
              "\n",
              "          const docLinkHtml = 'Like what you see? Visit the ' +\n",
              "            '<a target=\"_blank\" href=https://colab.research.google.com/notebooks/data_table.ipynb>data table notebook</a>'\n",
              "            + ' to learn more about interactive tables.';\n",
              "          element.innerHTML = '';\n",
              "          dataTable['output_type'] = 'display_data';\n",
              "          await google.colab.output.renderOutput(dataTable, element);\n",
              "          const docLink = document.createElement('div');\n",
              "          docLink.innerHTML = docLinkHtml;\n",
              "          element.appendChild(docLink);\n",
              "        }\n",
              "      </script>\n",
              "    </div>\n",
              "  </div>\n",
              "  "
            ]
          },
          "metadata": {},
          "execution_count": 16
        }
      ]
    },
    {
      "cell_type": "code",
      "source": [
        ""
      ],
      "metadata": {
        "id": "E0SHheI0Gwea"
      },
      "execution_count": null,
      "outputs": []
    }
  ],
  "metadata": {
    "colab": {
      "name": "Untitled0.ipynb",
      "provenance": [],
      "collapsed_sections": [
        "oA5VyiEEkbJL",
        "FSDaP_eAGlWT"
      ]
    },
    "kernelspec": {
      "display_name": "Python 3",
      "name": "python3"
    },
    "language_info": {
      "name": "python"
    }
  },
  "nbformat": 4,
  "nbformat_minor": 0
}